{
 "cells": [
  {
   "cell_type": "markdown",
   "metadata": {},
   "source": [
    "# Some Protocols for Fair Division"
   ]
  },
  {
   "cell_type": "code",
   "execution_count": 1,
   "metadata": {},
   "outputs": [],
   "source": [
    "from problem import Problem\n",
    "import fairness_measures\n",
    "#import simulations"
   ]
  },
  {
   "cell_type": "markdown",
   "metadata": {},
   "source": [
    "Several protocols have been implemented. They can be accessed by importing the module protocols. "
   ]
  },
  {
   "cell_type": "code",
   "execution_count": 2,
   "metadata": {},
   "outputs": [],
   "source": [
    "import protocols"
   ]
  },
  {
   "cell_type": "code",
   "execution_count": 3,
   "metadata": {},
   "outputs": [
    {
     "name": "stdout",
     "output_type": "stream",
     "text": [
      "agent 1{'r0': 1, 'r1': 2, 'r2': 5, 'r3': 3, 'r4': 8, 'r5': 1}\n",
      "agent 2{'r0': 2, 'r1': 3, 'r2': 9, 'r3': 1, 'r4': 2, 'r5': 3}\n",
      "\n",
      "auctioneer ['r0', 'r1', 'r2', 'r3', 'r4', 'r5']\t\n",
      "agent  1                                 []\t 0\n",
      "agent  2                                 []\t 0\n",
      "\n"
     ]
    }
   ],
   "source": [
    "p0 = Problem(3,6,'empty', centralized=True)\n",
    "p0.setUtilities(\n",
    "[{'r0':0,'r1':0,'r2':0,'r3':0,'r4':0,'r5':0},\\\n",
    "{'r0':1,'r1':2,'r2':5,'r3':3,'r4':8,'r5':1},\\\n",
    "{'r0':2,'r1':3,'r2':9,'r3':1,'r4':2,'r5':3}])\n",
    "print (p0)\n",
    "print (p0.printAllocation())"
   ]
  },
  {
   "cell_type": "markdown",
   "metadata": {},
   "source": [
    "## 4.1 Adjusted Winner"
   ]
  },
  {
   "cell_type": "code",
   "execution_count": 4,
   "metadata": {},
   "outputs": [
    {
     "name": "stdout",
     "output_type": "stream",
     "text": [
      "agent 1{'r0': 0.343, 'r1': 0.245, 'r2': 0.23, 'r3': 0.181}\n",
      "agent 2{'r0': 0.03, 'r1': 0.271, 'r2': 0.677, 'r3': 0.023}\n",
      "\n"
     ]
    }
   ],
   "source": [
    "p1 = Problem(3,4,'normalized',centralized=True)\n",
    "print(p1)"
   ]
  },
  {
   "cell_type": "code",
   "execution_count": 5,
   "metadata": {},
   "outputs": [
    {
     "name": "stdout",
     "output_type": "stream",
     "text": [
      "Output allocation phase:\n",
      "auctioneer                                  []\t\n",
      "agent  1                       ['r3', 'r4']\t11\n",
      "agent  2           ['r0', 'r1', 'r2', 'r5']\t17\n",
      "\n",
      "[(1.5, 'r1'), (2.0, 'r0'), (1.8, 'r2'), (3.0, 'r5')]\n",
      "Resource  r1  moves from  2  to  1\n",
      "Resource  r2  will be splitted!\n",
      "Agent  1  gets  0.071  of resource  r2\n",
      "Both agents get utility: 13.355\n"
     ]
    },
    {
     "data": {
      "text/plain": [
       "(13.355, 'r2', 1, 0.07142857142857142)"
      ]
     },
     "execution_count": 5,
     "metadata": {},
     "output_type": "execute_result"
    }
   ],
   "source": [
    "protocols.adjustedWinner(p0,verbose=True)"
   ]
  },
  {
   "cell_type": "markdown",
   "metadata": {},
   "source": [
    "Make sure that you understand exactly why items are allocated this way. "
   ]
  },
  {
   "cell_type": "markdown",
   "metadata": {},
   "source": [
    "### Question: Manipulating Adjusted Winner"
   ]
  },
  {
   "cell_type": "code",
   "execution_count": 6,
   "metadata": {},
   "outputs": [
    {
     "name": "stdout",
     "output_type": "stream",
     "text": [
      "agent 1{'r0': 75, 'r1': 25}\n",
      "agent 2{'r0': 25, 'r1': 75}\n",
      "\n"
     ]
    }
   ],
   "source": [
    "p2 = Problem(3,2,'uniform',centralized=True)\n",
    "p2.setUtilities(\n",
    "[{'r0':0,'r1':0},\\\n",
    "{'r0':75,'r1':25},\\\n",
    "{'r0':25,'r1':75}]\n",
    ")\n",
    "print (p2)"
   ]
  },
  {
   "cell_type": "markdown",
   "metadata": {},
   "source": [
    "In that case, the output of the adjusted winner protocol is rather obvious. Each agent gets its preferred item and everyone enjoys 75 of utility. "
   ]
  },
  {
   "cell_type": "code",
   "execution_count": 7,
   "metadata": {},
   "outputs": [
    {
     "name": "stdout",
     "output_type": "stream",
     "text": [
      "Output allocation phase:\n",
      "auctioneer                                  []\t\n",
      "agent  1                             ['r0']\t75\n",
      "agent  2                             ['r1']\t75\n",
      "\n",
      "[(3.0, 'r1')]\n"
     ]
    },
    {
     "data": {
      "text/plain": [
       "(75, 'r1', 1, 0)"
      ]
     },
     "execution_count": 7,
     "metadata": {},
     "output_type": "execute_result"
    }
   ],
   "source": [
    "protocols.adjustedWinner(p2,verbose=True)"
   ]
  },
  {
   "cell_type": "markdown",
   "metadata": {},
   "source": [
    "But can you find a **manipulation** for agent 1, that is, a way to misrepresent the preferences of the agent (in other words, announce a valuation for an item which differs from the real one) such that the utility is in reality higher? \n",
    "Note that you will need to compute the allocation with the **declared** preferences, but that the actual utility enjoyed by agents must be computed with their **true** preferences. "
   ]
  },
  {
   "cell_type": "code",
   "execution_count": 8,
   "metadata": {},
   "outputs": [
    {
     "name": "stdout",
     "output_type": "stream",
     "text": [
      "Output allocation phase:\n",
      "auctioneer                                  []\t\n",
      "agent  1                             ['r0']\t26\n",
      "agent  2                             ['r1']\t75\n",
      "\n",
      "[(1.014, 'r1')]\n",
      "Resource  r1  will be splitted!\n",
      "Agent  1  gets  0.329  of resource  r1\n",
      "Both agents get utility: 50.346000000000004\n"
     ]
    },
    {
     "data": {
      "text/plain": [
       "(50.346000000000004, 'r1', 1, 0.3288590604026846)"
      ]
     },
     "execution_count": 8,
     "metadata": {},
     "output_type": "execute_result"
    }
   ],
   "source": [
    "p2 = Problem(3,2,'uniform',centralized=True)\n",
    "p2.setUtilities(\n",
    "[{'r0':0,'r1':0},\\\n",
    "{'r0':26,'r1':74},\\\n",
    "{'r0':25,'r1':75}]\n",
    ")\n",
    "protocols.adjustedWinner(p2,verbose=True)"
   ]
  },
  {
   "cell_type": "markdown",
   "metadata": {},
   "source": [
    "What is the \"best\" manipulation that agent 1 can do? \n",
    "To evaluate this, it will be useful to run a script trying all the different values possibly announced by agent 1, and to plot the utility obtained with each of these. "
   ]
  },
  {
   "cell_type": "code",
   "execution_count": 33,
   "metadata": {
    "scrolled": true
   },
   "outputs": [
    {
     "name": "stdout",
     "output_type": "stream",
     "text": [
      "[(1.32, 'r1')]\n",
      "[(1.307, 'r1')]\n",
      "[(1.293, 'r1')]\n",
      "[(1.28, 'r1')]\n",
      "[(1.267, 'r1')]\n",
      "[(1.253, 'r1')]\n",
      "[(1.24, 'r1')]\n",
      "[(1.227, 'r1')]\n",
      "[(1.213, 'r1')]\n",
      "[(1.2, 'r1')]\n",
      "[(1.187, 'r1')]\n",
      "[(1.173, 'r1')]\n",
      "[(1.16, 'r1')]\n",
      "[(1.147, 'r1')]\n",
      "[(1.133, 'r1')]\n",
      "[(1.12, 'r1')]\n",
      "[(1.107, 'r1')]\n",
      "[(1.093, 'r1')]\n",
      "[(1.08, 'r1')]\n",
      "[(1.067, 'r1')]\n",
      "[(1.053, 'r1')]\n",
      "[(1.04, 'r1')]\n",
      "[(1.027, 'r1')]\n",
      "[(1.013, 'r1')]\n",
      "[(1.0, 'r0'), (1.0, 'r1')]\n",
      "[(1.014, 'r1')]\n",
      "[(1.027, 'r1')]\n",
      "[(1.042, 'r1')]\n",
      "[(1.056, 'r1')]\n",
      "[(1.071, 'r1')]\n",
      "[(1.087, 'r1')]\n",
      "[(1.103, 'r1')]\n",
      "[(1.119, 'r1')]\n",
      "[(1.136, 'r1')]\n",
      "[(1.154, 'r1')]\n",
      "[(1.172, 'r1')]\n",
      "[(1.19, 'r1')]\n",
      "[(1.21, 'r1')]\n",
      "[(1.23, 'r1')]\n",
      "[(1.25, 'r1')]\n",
      "[(1.271, 'r1')]\n",
      "[(1.293, 'r1')]\n",
      "[(1.316, 'r1')]\n",
      "[(1.339, 'r1')]\n",
      "[(1.364, 'r1')]\n",
      "[(1.389, 'r1')]\n",
      "[(1.415, 'r1')]\n",
      "[(1.442, 'r1')]\n",
      "[(1.471, 'r1')]\n",
      "[(1.5, 'r1')]\n",
      "[(1.531, 'r1')]\n",
      "[(1.562, 'r1')]\n",
      "[(1.596, 'r1')]\n",
      "[(1.63, 'r1')]\n",
      "[(1.667, 'r1')]\n",
      "[(1.705, 'r1')]\n",
      "[(1.744, 'r1')]\n",
      "[(1.786, 'r1')]\n",
      "[(1.829, 'r1')]\n",
      "[(1.875, 'r1')]\n",
      "[(1.923, 'r1')]\n",
      "[(1.974, 'r1')]\n",
      "[(2.027, 'r1')]\n",
      "[(2.083, 'r1')]\n",
      "[(2.143, 'r1')]\n",
      "[(2.206, 'r1')]\n",
      "[(2.273, 'r1')]\n",
      "[(2.344, 'r1')]\n",
      "[(2.419, 'r1')]\n",
      "[(2.5, 'r1')]\n",
      "[(2.586, 'r1')]\n",
      "[(2.679, 'r1')]\n",
      "[(2.778, 'r1')]\n",
      "[(2.885, 'r1')]\n",
      "[(3.0, 'r1')]\n",
      "[(3.04, 'r0')]\n",
      "[(3.08, 'r0')]\n",
      "[(3.12, 'r0')]\n",
      "[(3.16, 'r0')]\n",
      "[(3.2, 'r0')]\n",
      "[(3.24, 'r0')]\n",
      "[(3.28, 'r0')]\n",
      "[(3.32, 'r0')]\n",
      "[(3.36, 'r0')]\n",
      "[(3.4, 'r0')]\n",
      "[(3.44, 'r0')]\n",
      "[(3.48, 'r0')]\n",
      "[(3.52, 'r0')]\n",
      "[(3.56, 'r0')]\n",
      "[(3.6, 'r0')]\n",
      "[(3.64, 'r0')]\n",
      "[(3.68, 'r0')]\n",
      "[(3.72, 'r0')]\n",
      "[(3.76, 'r0')]\n",
      "[(3.8, 'r0')]\n",
      "[(3.84, 'r0')]\n",
      "[(3.88, 'r0')]\n",
      "[(3.92, 'r0')]\n",
      "[(3.96, 'r0')]\n",
      "[(4.0, 'r0')]\n"
     ]
    }
   ],
   "source": [
    "import numpy as np\n",
    "import matplotlib.pyplot as plt\n",
    "\n",
    "# Vérification avec un script qui essaye toutes les valeurs possibles annoncées par l'agent 1\n",
    "# prend en paramètre les vraies utilités de r0 et r1 pour l'agent 1\n",
    "# (les utilités pour l'agent 2 sont considérées comme fixes)\n",
    "\n",
    "def manipulation_a1(vraie_utilite_r0, vraie_utilite_r1):\n",
    "\n",
    "    y = []\n",
    "    \n",
    "    for i in range(100):\n",
    "        \n",
    "        pb = Problem(3, 2, 'uniform', centralized = True)\n",
    "        \n",
    "        utilites = [{'r0':0,'r1':0},\\\n",
    "                {'r0':i+1,'r1':(100-i-1)},\\\n",
    "                {'r0':25,'r1':75}]\n",
    "        \n",
    "        pb.setUtilities(utilites)\n",
    "        \n",
    "        u, r, low, part_of_low = protocols.adjustedWinner(pb,verbose=False)\n",
    "\n",
    "        # l'agent 2 a moins d'utilité que l'agent 1\n",
    "        if low == 2: \n",
    "            # r = ressource à partager\n",
    "            if r=='r0':\n",
    "                y.append(vraie_utilite_r1 * (1-part_of_low))\n",
    "\n",
    "            else:\n",
    "                y.append(vraie_utilite_r0 * (1-part_of_low))\n",
    "        else:\n",
    "            y.append(vraie_utilite_r1 + part_of_low * vraie_utilite_r0) \n",
    "\n",
    "    x = np.arange(100)\n",
    "    y = np.array(y)\n",
    "    \n",
    "    return x, y\n",
    "\n",
    "# Affichage de l'utilité obtenue par l'agent 1 pour toutes les valeurs possibles annoncées par l'agent 1\n",
    "\n",
    "x, y = manipulation_a1(25, 75)\n",
    "xmax = x[np.argmax(y)]\n",
    "ymax = y[np.argmax(y)]\n"
   ]
  },
  {
   "cell_type": "code",
   "execution_count": 32,
   "metadata": {},
   "outputs": [
    {
     "data": {
      "text/plain": [
       "[<matplotlib.lines.Line2D at 0x887250>]"
      ]
     },
     "execution_count": 32,
     "metadata": {},
     "output_type": "execute_result"
    },
    {
     "data": {
      "image/png": "[encoded data removed]",
      "text/plain": [
       "<Figure size 432x288 with 1 Axes>"
      ]
     },
     "metadata": {
      "needs_background": "light"
     },
     "output_type": "display_data"
    }
   ],
   "source": [
    "fig, ax = plt.subplots()\n",
    "ax.set_xlabel('Valuation of item 1')\n",
    "ax.set_ylabel('Total score according to true valuation')\n",
    "\n",
    "plt.vlines(x=xmax, ymin=0, ymax=ymax, color='red')\n",
    "plt.hlines(xmin=0, xmax=xmax, y=ymax, color='red')\n",
    "plt.plot(x,y)"
   ]
  },
  {
   "cell_type": "markdown",
   "metadata": {},
   "source": [
    "## 4. 2 Picking Sequences"
   ]
  },
  {
   "cell_type": "code",
   "execution_count": 10,
   "metadata": {},
   "outputs": [
    {
     "name": "stdout",
     "output_type": "stream",
     "text": [
      "agent 1{'r0': 1, 'r1': 2, 'r2': 5, 'r3': 3, 'r4': 7, 'r5': 2}\n",
      "agent 2{'r0': 2, 'r1': 6, 'r2': 8, 'r3': 1, 'r4': 1, 'r5': 2}\n",
      "agent 3{'r0': 5, 'r1': 4, 'r2': 4, 'r3': 3, 'r4': 2, 'r5': 2}\n",
      "\n",
      "auctioneer ['r0', 'r1', 'r2', 'r3', 'r4', 'r5']\t\n",
      "agent  1                                 []\t 0\n",
      "agent  2                                 []\t 0\n",
      "agent  3                                 []\t 0\n",
      "\n"
     ]
    }
   ],
   "source": [
    "p3 = Problem(4,6,'empty', centralized=True)\n",
    "p3.setUtilities(\n",
    "[{'r0':0,'r1':0,'r2':0,'r3':0,'r4':0,'r5':0},\\\n",
    "{'r0':1,'r1':2,'r2':5,'r3':3,'r4':7,'r5':2},\\\n",
    "{'r0':2,'r1':6,'r2':8,'r3':1,'r4':1,'r5':2},\\\n",
    "{'r0':5,'r1':4,'r2':4,'r3':3,'r4':2,'r5':2}]\n",
    ")\n",
    "print (p3)\n",
    "print (p3.printAllocation())"
   ]
  },
  {
   "cell_type": "markdown",
   "metadata": {
    "collapsed": true
   },
   "source": [
    "Let us apply a picking sequence on our problem p3."
   ]
  },
  {
   "cell_type": "code",
   "execution_count": 11,
   "metadata": {},
   "outputs": [
    {
     "name": "stdout",
     "output_type": "stream",
     "text": [
      "agent  1  picks  r4\n",
      "agent  2  picks  r2\n",
      "agent  3  picks  r0\n",
      "agent  2  picks  r1\n",
      "agent  3  picks  r3\n",
      "agent  1  picks  r5\n"
     ]
    }
   ],
   "source": [
    "s0 = [1,2,3,2,3,1]\n",
    "protocols.pickingSequence(p3,s0,verbose=True)"
   ]
  },
  {
   "cell_type": "code",
   "execution_count": 12,
   "metadata": {},
   "outputs": [
    {
     "name": "stdout",
     "output_type": "stream",
     "text": [
      "auctioneer                                  []\t\n",
      "agent  1                       ['r4', 'r5']\t 9\n",
      "agent  2                       ['r2', 'r1']\t14\n",
      "agent  3                       ['r0', 'r3']\t 8\n",
      "\n"
     ]
    }
   ],
   "source": [
    "print(p3.printAllocation())"
   ]
  },
  {
   "cell_type": "code",
   "execution_count": 13,
   "metadata": {},
   "outputs": [
    {
     "name": "stdout",
     "output_type": "stream",
     "text": [
      "[[0. 0. 0. 0.]\n",
      " [0. 0. 0. 0.]\n",
      " [0. 0. 0. 0.]\n",
      " [0. 0. 0. 0.]]\n"
     ]
    }
   ],
   "source": [
    "print(fairness_measures.envyMatrix(p3))"
   ]
  },
  {
   "cell_type": "markdown",
   "metadata": {},
   "source": [
    "It is also possible to generate standard sequences, like balanced or alternate ones. "
   ]
  },
  {
   "cell_type": "code",
   "execution_count": 14,
   "metadata": {},
   "outputs": [
    {
     "name": "stdout",
     "output_type": "stream",
     "text": [
      "[1, 2, 3, 3, 2, 1]\n"
     ]
    }
   ],
   "source": [
    "s= protocols.generateSequence(3,6,'balanced')\n",
    "print(s)"
   ]
  },
  {
   "cell_type": "markdown",
   "metadata": {},
   "source": [
    "### Question: What is the fairest picking sequence?"
   ]
  },
  {
   "cell_type": "code",
   "execution_count": 15,
   "metadata": {},
   "outputs": [],
   "source": [
    "import simulations"
   ]
  },
  {
   "cell_type": "markdown",
   "metadata": {},
   "source": [
    "Let us consider 3 agents and 5 items. Can you propose some sequence which would do well in terms of egalitarian social welfare? You can simulate a number of picking sequences by specifying: the number of experiments, the number of agents (remember to count agent 0 here-to be fixed sorry), the number of objects, the sequence, and the ways utilities are generated.\n",
    "    "
   ]
  },
  {
   "cell_type": "code",
   "execution_count": 16,
   "metadata": {},
   "outputs": [
    {
     "name": "stdout",
     "output_type": "stream",
     "text": [
      "=-=-=-=-=-=-=-=-=-=-=-=-=-=-=-=-=-=-=-=-=-=-=-=-=-=\n",
      "= Number of experiments:                 1000\n",
      "= Average egalitarian sw:                 2.964\n",
      "= Ratio of proportional:                0.201\n",
      "= Ratio of envy free:                     0.07\n",
      "= Average number of envious:              0.93\n",
      "= Average max envy:                      4.293\n",
      "=-=-=-=-=-=-=-=-=-=-=-=-=-=-=-=-=-=-=-=-=-=-=-=-=-=\n",
      "\n"
     ]
    }
   ],
   "source": [
    "simulations.simulationPickingSequences(1000,4,5,[1,2,2,1,3],'borda',verbose=False) # mauvaise séquence"
   ]
  },
  {
   "cell_type": "code",
   "execution_count": 17,
   "metadata": {},
   "outputs": [
    {
     "name": "stdout",
     "output_type": "stream",
     "text": [
      "=-=-=-=-=-=-=-=-=-=-=-=-=-=-=-=-=-=-=-=-=-=-=-=-=-=\n",
      "= Number of experiments:                 1000\n",
      "= Average egalitarian sw:                   5.0\n",
      "= Ratio of proportional:                  1.0\n",
      "= Ratio of envy free:                    0.274\n",
      "= Average number of envious:             0.826\n",
      "= Average max envy:                      1.056\n",
      "=-=-=-=-=-=-=-=-=-=-=-=-=-=-=-=-=-=-=-=-=-=-=-=-=-=\n",
      "\n"
     ]
    }
   ],
   "source": [
    "simulations.simulationPickingSequences(1000,4,5,[1,3,2,2,3],'borda',verbose=False) # meilleur ESW"
   ]
  },
  {
   "cell_type": "markdown",
   "metadata": {},
   "source": [
    "### And to conclude: \n",
    "For 3 agents, and 6 and 8 objects, could you find the fairest picking sequences in terms of: \n",
    "* egalitarian social welfare\n",
    "* average max envy"
   ]
  },
  {
   "cell_type": "code",
   "execution_count": 18,
   "metadata": {},
   "outputs": [
    {
     "name": "stdout",
     "output_type": "stream",
     "text": [
      "=-=-=-=-=-=-=-=-=-=-=-=-=-=-=-=-=-=-=-=-=-=-=-=-=-=\n",
      "= Number of experiments:                 1000\n",
      "= Average egalitarian sw:                13.493\n",
      "= Ratio of proportional:                0.901\n",
      "= Ratio of envy free:                    0.587\n",
      "= Average number of envious:             0.448\n",
      "= Average max envy:                      1.048\n",
      "=-=-=-=-=-=-=-=-=-=-=-=-=-=-=-=-=-=-=-=-=-=-=-=-=-=\n",
      "\n"
     ]
    }
   ],
   "source": [
    "simulations.simulationPickingSequences(1000,4,8,[1,2,3,1,2,3,1,2],'borda',verbose=False) # to start with a bad sequence"
   ]
  },
  {
   "cell_type": "code",
   "execution_count": 19,
   "metadata": {},
   "outputs": [
    {
     "name": "stdout",
     "output_type": "stream",
     "text": [
      "[1, 2, 3, 3, 2, 1]\n",
      "=-=-=-=-=-=-=-=-=-=-=-=-=-=-=-=-=-=-=-=-=-=-=-=-=-=\n",
      "= Number of experiments:                 1000\n",
      "= Average egalitarian sw:                 8.353\n",
      "= Ratio of proportional:                  1.0\n",
      "= Ratio of envy free:                    0.738\n",
      "= Average number of envious:             0.266\n",
      "= Average max envy:                      0.336\n",
      "=-=-=-=-=-=-=-=-=-=-=-=-=-=-=-=-=-=-=-=-=-=-=-=-=-=\n",
      "\n"
     ]
    }
   ],
   "source": [
    "# séquence la plus juste pour 3 agents et 6 objets : [1, 2, 3, 3, 2, 1]\n",
    "# c'est une séquence symétrique où les agents ne choisissent pas deux fois de suite donc on a une séquence équilibrée\n",
    "# et juste pour tous les agents\n",
    "s = protocols.generateSequence(3,6,'balanced')\n",
    "print(s)\n",
    "simulations.simulationPickingSequences(1000,4,6,s,'borda',verbose=False)"
   ]
  },
  {
   "cell_type": "code",
   "execution_count": 20,
   "metadata": {},
   "outputs": [
    {
     "name": "stdout",
     "output_type": "stream",
     "text": [
      "=-=-=-=-=-=-=-=-=-=-=-=-=-=-=-=-=-=-=-=-=-=-=-=-=-=\n",
      "= Number of experiments:                 1000\n",
      "= Average egalitarian sw:                13.896\n",
      "= Ratio of proportional:                0.968\n",
      "= Ratio of envy free:                    0.727\n",
      "= Average number of envious:             0.282\n",
      "= Average max envy:                      0.571\n",
      "=-=-=-=-=-=-=-=-=-=-=-=-=-=-=-=-=-=-=-=-=-=-=-=-=-=\n",
      "\n",
      "=-=-=-=-=-=-=-=-=-=-=-=-=-=-=-=-=-=-=-=-=-=-=-=-=-=\n",
      "= Number of experiments:                 1000\n",
      "= Average egalitarian sw:                13.899\n",
      "= Ratio of proportional:                0.972\n",
      "= Ratio of envy free:                    0.747\n",
      "= Average number of envious:             0.264\n",
      "= Average max envy:                      0.554\n",
      "=-=-=-=-=-=-=-=-=-=-=-=-=-=-=-=-=-=-=-=-=-=-=-=-=-=\n",
      "\n"
     ]
    }
   ],
   "source": [
    "# séquence la plus juste pour 3 agents et 8 objets : il y en a plusieurs\n",
    "# c'est le même principe ; les agents ne choisissent pas deux fois de suite et choisissent à nouveau une fois que tout\n",
    "# le monde a choisi un même nombre d'objets (dans la limite du nombre d'objets donc ici il y a un agent qui a 1 objet \n",
    "# de moins)\n",
    "simulations.simulationPickingSequences(1000,4,8,[1,2,3,3,2,1,2,3],'borda',verbose=False)\n",
    "simulations.simulationPickingSequences(1000,4,8,[1,2,3,3,2,1,3,2],'borda',verbose=False)"
   ]
  },
  {
   "cell_type": "markdown",
   "metadata": {},
   "source": [
    "## 4.3 Lipton et al. protocol"
   ]
  },
  {
   "cell_type": "markdown",
   "metadata": {},
   "source": [
    "Let us now test the protocol of Lipton, which allocates items one by one and solves envy cycles when they occur. "
   ]
  },
  {
   "cell_type": "code",
   "execution_count": 21,
   "metadata": {
    "scrolled": true
   },
   "outputs": [
    {
     "name": "stdout",
     "output_type": "stream",
     "text": [
      "agent 1{'r0': 0, 'r1': 0, 'r2': 0, 'r3': 0, 'r4': 0, 'r5': 0}\n",
      "agent 2{'r0': 0, 'r1': 0, 'r2': 0, 'r3': 0, 'r4': 0, 'r5': 0}\n",
      "agent 3{'r0': 0, 'r1': 0, 'r2': 0, 'r3': 0, 'r4': 0, 'r5': 0}\n",
      "\n",
      "auctioneer ['r0', 'r1', 'r2', 'r3', 'r4', 'r5']\t\n",
      "agent  1                                 []\t 0\n",
      "agent  2                                 []\t 0\n",
      "agent  3                                 []\t 0\n",
      "\n",
      "agent 1{'r0': 1, 'r1': 2, 'r2': 5, 'r3': 3, 'r4': 7, 'r5': 2}\n",
      "agent 2{'r0': 2, 'r1': 6, 'r2': 8, 'r3': 1, 'r4': 1, 'r5': 2}\n",
      "agent 3{'r0': 5, 'r1': 4, 'r2': 4, 'r3': 3, 'r4': 2, 'r5': 2}\n",
      "\n",
      "=-=-=-=-=-=-=-=-=-=-=-=-=-=-=-=-=-=-=-=-=-=-=-=-=-=\n",
      "Running the Lipton et al. protocol\n",
      "=-=-=-=-=-=-=-=-=-=-=-=-=-=-=-=-=-=-=-=-=-=-=-=-=-=\n",
      "auctioneer ['r0', 'r1', 'r2', 'r3', 'r4', 'r5']\t\n",
      "agent  1                                 []\t 0\n",
      "agent  2                                 []\t 0\n",
      "agent  3                                 []\t 0\n",
      "\n",
      "envy graph: {0: [], 1: [], 2: [], 3: []}\n",
      "allocating resource  r0\n",
      "auctioneer      ['r1', 'r2', 'r3', 'r4', 'r5']\t\n",
      "agent  1                             ['r0']\t 1\n",
      "agent  2                                 []\t 0\n",
      "agent  3                                 []\t 0\n",
      "\n",
      "envy graph: {0: [], 1: [], 2: [1], 3: [1]}\n",
      "allocating resource  r1\n",
      "auctioneer            ['r2', 'r3', 'r4', 'r5']\t\n",
      "agent  1                             ['r0']\t 1\n",
      "agent  2                             ['r1']\t 6\n",
      "agent  3                                 []\t 0\n",
      "\n",
      "envy graph: {0: [], 1: [2], 2: [], 3: [1, 2]}\n",
      "allocating resource  r2\n",
      "auctioneer                  ['r3', 'r4', 'r5']\t\n",
      "agent  1                             ['r0']\t 1\n",
      "agent  2                             ['r1']\t 6\n",
      "agent  3                             ['r2']\t 4\n",
      "\n",
      "envy graph: {0: [], 1: [2, 3], 2: [3], 3: [1]}\n",
      "solving the cycle: []\n",
      "auctioneer                  ['r3', 'r4', 'r5']\t\n",
      "agent  1                             ['r1']\t 2\n",
      "agent  2                             ['r2']\t 8\n",
      "agent  3                             ['r0']\t 5\n",
      "\n",
      "envy graph: {0: [], 1: [2], 2: [], 3: []}\n",
      "allocating resource  r3\n",
      "auctioneer                        ['r4', 'r5']\t\n",
      "agent  1                       ['r1', 'r3']\t 5\n",
      "agent  2                             ['r2']\t 8\n",
      "agent  3                             ['r0']\t 5\n",
      "\n",
      "envy graph: {0: [], 1: [], 2: [], 3: [1]}\n",
      "allocating resource  r4\n",
      "auctioneer                              ['r5']\t\n",
      "agent  1                       ['r1', 'r3']\t 5\n",
      "agent  2                       ['r2', 'r4']\t 9\n",
      "agent  3                             ['r0']\t 5\n",
      "\n",
      "envy graph: {0: [], 1: [2], 2: [], 3: [1, 2]}\n",
      "allocating resource  r5\n",
      "envy graph: {0: [], 1: [2], 2: [], 3: []}\n",
      "Final allocation:\n",
      "auctioneer                                  []\t\n",
      "agent  1                       ['r1', 'r3']\t 5\n",
      "agent  2                       ['r2', 'r4']\t 9\n",
      "agent  3                       ['r0', 'r5']\t 7\n",
      "\n"
     ]
    }
   ],
   "source": [
    "p4 = Problem(4,6,'empty','centralized')\n",
    "print(p4)\n",
    "print(p4.printAllocation())\n",
    "p4.setUtilities(\n",
    "[{'r0':0,'r1':0,'r2':0,'r3':0,'r4':0,'r5':0},\\\n",
    "{'r0':1,'r1':2,'r2':5,'r3':3,'r4':7,'r5':2},\\\n",
    "{'r0':2,'r1':6,'r2':8,'r3':1,'r4':1,'r5':2},\\\n",
    "{'r0':5,'r1':4,'r2':4,'r3':3,'r4':2,'r5':2}]\n",
    ")\n",
    "print(p4)\n",
    "\n",
    "protocols.lipton(p4)"
   ]
  },
  {
   "cell_type": "markdown",
   "metadata": {},
   "source": [
    "## 4.4 Local deals"
   ]
  },
  {
   "cell_type": "markdown",
   "metadata": {},
   "source": [
    "Finally, let us play a bit with local exchanges. For this, we will need to create a decentralized MARA problem. Items are intially allocated at random among agents. Here, utilities are Borda. "
   ]
  },
  {
   "cell_type": "code",
   "execution_count": 111,
   "metadata": {},
   "outputs": [
    {
     "name": "stdout",
     "output_type": "stream",
     "text": [
      "agent 0{'r0': 3, 'r1': 5, 'r2': 6, 'r3': 4, 'r4': 1, 'r5': 2}\n",
      "agent 1{'r0': 6, 'r1': 3, 'r2': 5, 'r3': 2, 'r4': 4, 'r5': 1}\n",
      "agent 2{'r0': 1, 'r1': 3, 'r2': 2, 'r3': 5, 'r4': 6, 'r5': 4}\n",
      "agent 3{'r0': 2, 'r1': 1, 'r2': 6, 'r3': 5, 'r4': 3, 'r5': 4}\n",
      "\n",
      "=-=-=-=-=-=-=-=-=-=-=-=-=-=-=-=-=-=-=-=-=-=-=-=-=-=\n",
      "agent  0                                 []\t 0\n",
      "agent  1                             ['r0']\t 6\n",
      "agent  2                       ['r2', 'r4']\t 8\n",
      "agent  3                 ['r1', 'r3', 'r5']\t10\n",
      "\n"
     ]
    }
   ],
   "source": [
    "import copy\n",
    "\n",
    "p5 = Problem(4,6,'borda',centralized=False)\n",
    "print(p5)\n",
    "print(p5.printAllocation())\n",
    "\n",
    "p6 = copy.deepcopy(p5)"
   ]
  },
  {
   "cell_type": "markdown",
   "metadata": {},
   "source": [
    "Can you spot which agents could perform mutually beneficial deals? "
   ]
  },
  {
   "cell_type": "code",
   "execution_count": 112,
   "metadata": {},
   "outputs": [
    {
     "name": "stdout",
     "output_type": "stream",
     "text": [
      "agent  1  meets agent  2\n",
      "agent  2  meets agent  3\n",
      "deal between  2  and  3 for  r2  and  r1\n",
      "=-=-=-=-=-=-=-=-=-=-=-=-=-=-=-=-=-=-=-=-=-=-=-=-=-=\n",
      "agent  0                                 []\t 0\n",
      "agent  1                             ['r0']\t 6\n",
      "agent  2                       ['r4', 'r1']\t 9\n",
      "agent  3                 ['r3', 'r5', 'r2']\t15\n",
      "\n",
      "agent  2  meets agent  3\n",
      "agent  1  meets agent  2\n",
      "agent  0  meets agent  1\n",
      "agent  0  meets agent  2\n",
      "agent  1  meets agent  3\n",
      "agent  0  meets agent  3\n",
      "End of dynamics. No more deal possible.\n"
     ]
    }
   ],
   "source": [
    "protocols.randomDynamics(p5,True)"
   ]
  },
  {
   "cell_type": "markdown",
   "metadata": {},
   "source": [
    "Let us check the envy of the final allocation. "
   ]
  },
  {
   "cell_type": "code",
   "execution_count": 113,
   "metadata": {},
   "outputs": [
    {
     "name": "stdout",
     "output_type": "stream",
     "text": [
      "{0: [1, 2, 3], 1: [2, 3], 2: [3], 3: []}\n"
     ]
    }
   ],
   "source": [
    "m = fairness_measures.envyMatrix(p5)\n",
    "g = fairness_measures.buildEnvyGraph(m)\n",
    "print (g)"
   ]
  },
  {
   "cell_type": "markdown",
   "metadata": {},
   "source": [
    "### Question: Could you find fairer dynamics?"
   ]
  },
  {
   "cell_type": "markdown",
   "metadata": {},
   "source": [
    "As it stands, agents just meet randomly (a given pair is picked uniformly among the possible ones). \n",
    "Could you conceive a fairer dynamics and test it? "
   ]
  },
  {
   "cell_type": "code",
   "execution_count": 114,
   "metadata": {},
   "outputs": [
    {
     "name": "stdout",
     "output_type": "stream",
     "text": [
      "6\n",
      "8\n",
      "10\n",
      "14\n",
      "16\n",
      "18\n",
      "agent  0  meets agent  1\n",
      "agent  0  meets agent  2\n",
      "agent  0  meets agent  3\n",
      "agent  1  meets agent  2\n",
      "agent  1  meets agent  3\n",
      "agent  2  meets agent  3\n",
      "deal between  2  and  3 for  r2  and  r1\n",
      "=-=-=-=-=-=-=-=-=-=-=-=-=-=-=-=-=-=-=-=-=-=-=-=-=-=\n",
      "agent  0                                 []\t 0\n",
      "agent  1                             ['r0']\t 6\n",
      "agent  2                       ['r4', 'r1']\t 9\n",
      "agent  3                 ['r3', 'r5', 'r2']\t15\n",
      "\n",
      "agent  0  meets agent  1\n",
      "agent  0  meets agent  2\n",
      "agent  0  meets agent  3\n",
      "agent  1  meets agent  2\n",
      "agent  1  meets agent  3\n",
      "agent  2  meets agent  3\n",
      "End of dynamics. No more deal possible.\n"
     ]
    }
   ],
   "source": [
    "from operator import itemgetter\n",
    "import protocols\n",
    "\n",
    "def fairerDynamics(p,verbose=False):\n",
    "    testedPairs = []\n",
    "    allPairs = [(x,y) for x in range(p.n) for y in range(x,p.n) if x!=y]\n",
    "    #print(allPairs)\n",
    "    allPairsWithU = []\n",
    "    u = 0\n",
    "    for pair in allPairs:\n",
    "        x = pair[0]\n",
    "        y = pair[1]\n",
    "        u = p.agent[x].current_u + p.agent[y].current_u\n",
    "        allPairsWithU.append((x,y,u))\n",
    "        \n",
    "    allPairsWithU = sorted(allPairsWithU, key=itemgetter(2))\n",
    "    \n",
    "    for pair in allPairsWithU:\n",
    "        print(pair[2])\n",
    "    #random.shuffle(allPairs)\n",
    "\n",
    "    while len(testedPairs) != len(allPairs):\n",
    "        candidatePairs = [(x,y,u) for (x,y,u) in allPairsWithU if (x,y,u) not in testedPairs]\n",
    "        #print (testedPairs)\n",
    "        # choice in all pairs - tested\n",
    "        (x,y,u) = candidatePairs[0]\n",
    "        if verbose:\n",
    "            print(\"agent \", x, \" meets agent \",y)\n",
    "\n",
    "        if not(protocols.rationalSwapDeal(p,x,y,verbose)):\n",
    "            testedPairs.append((x,y,u))\n",
    "        else:\n",
    "            testedPairs = []\n",
    "            if verbose:\n",
    "                print (p.printAllocation())\n",
    "    print (\"End of dynamics. No more deal possible.\")\n",
    "\n",
    "\n",
    "fairerDynamics(p6,True)"
   ]
  },
  {
   "cell_type": "code",
   "execution_count": 115,
   "metadata": {},
   "outputs": [
    {
     "name": "stdout",
     "output_type": "stream",
     "text": [
      "{0: [1, 2, 3], 1: [2, 3], 2: [3], 3: []}\n"
     ]
    }
   ],
   "source": [
    "m = fairness_measures.envyMatrix(p6)\n",
    "g = fairness_measures.buildEnvyGraph(m)\n",
    "print (g)"
   ]
  },
  {
   "cell_type": "markdown",
   "metadata": {},
   "source": [
    "### Question: BT protocol with contested pile"
   ]
  },
  {
   "cell_type": "markdown",
   "metadata": {},
   "source": [
    "Code the BT protocol, and return the size of the contested pile, the Borda score of agents as well as whether the allocation is EF under the definition seen during the course. When increasing the number of objects, plot the likelihood of the protocol returning an EF allocation. "
   ]
  },
  {
   "cell_type": "code",
   "execution_count": 117,
   "metadata": {},
   "outputs": [],
   "source": [
    "# Récupération des ressources triées selon l'utilité de l'agent\n",
    "def BT_name_prefered_items(p):\n",
    "    preferences_A = p.agent[0].u.copy()\n",
    "    preferences_B = p.agent[1].u.copy()\n",
    "    preferences_A = list(dict(sorted(preferences_A.items(), key=lambda item: item[1], reverse=True)).keys())\n",
    "    preferences_B = list(dict(sorted(preferences_B.items(), key=lambda item: item[1], reverse=True)).keys())\n",
    "    return preferences_A,preferences_B"
   ]
  },
  {
   "cell_type": "code",
   "execution_count": 118,
   "metadata": {},
   "outputs": [],
   "source": [
    "# Allocation des ressources à partir des préférences des agents\n",
    "def BT_allocation(preferences_A, preferences_B):\n",
    "    contested_pile = []\n",
    "    A = []\n",
    "    B = []\n",
    "    while not(len(preferences_A) == 0 and len(preferences_B) == 0):\n",
    "        \n",
    "        if preferences_A[0] != preferences_B[0]:\n",
    "            A.append(preferences_A[0])\n",
    "            B.append(preferences_B[0])\n",
    "            if preferences_B[0] in preferences_A:\n",
    "                preferences_A.remove(preferences_B[0])\n",
    "            if preferences_A[0] in preferences_B:\n",
    "                preferences_B.remove(preferences_A[0])\n",
    "        else:\n",
    "            contested_pile.append(preferences_A[0])\n",
    "            \n",
    "        preferences_A.remove(preferences_A[0])\n",
    "        preferences_B.remove(preferences_B[0])\n",
    "\n",
    "    return A, B, contested_pile"
   ]
  },
  {
   "cell_type": "code",
   "execution_count": 119,
   "metadata": {},
   "outputs": [],
   "source": [
    "# Application du protocle BT avec le score de Borda et vérification Envy Free\n",
    "def BT_protocol(p):\n",
    "    \n",
    "    preferences_A, preferences_B = BT_name_prefered_items(p)\n",
    "#     print(\"Preferences A :\", preferences_A)\n",
    "#     print(\"Preferences B :\", preferences_B)\n",
    "    \n",
    "    bundle_A, bundle_B, contested_pile = BT_allocation(preferences_A.copy(), preferences_B.copy())\n",
    "#     print(\"Bundle A :\", bundle_A)\n",
    "#     print(\"Bundle B :\", bundle_B)\n",
    "#     print(\"Contested pile :\", contested_pile)\n",
    "    \n",
    "    # convert bundles to allocations\n",
    "    bundles = [bundle_A, bundle_B]\n",
    "    allocation = []\n",
    "    \n",
    "    for i in range(len(p.agent)):\n",
    "        allocation.append([0]*p.m)\n",
    "        for j in range(len(bundles[i])):\n",
    "            #print(int(bundles[i][j].split(\"r\")[1]))\n",
    "            allocation[i][int(bundles[i][j].split(\"r\")[1])] = 1\n",
    "    \n",
    "    #print(allocation)\n",
    "    p.setAllocation(allocation)\n",
    "    #print(p.printAllocation())\n",
    "    \n",
    "    size_contested_pile = len(contested_pile)\n",
    "\n",
    "    # score de Borda\n",
    "    borda_score = []\n",
    "    preferences = [preferences_A, preferences_B]\n",
    "    for i in range(len(p.agent)):\n",
    "        borda_score.append(0)\n",
    "        for j in range(len(bundles[i])):\n",
    "            borda_score[-1] += len(preferences[i]) - preferences[i].index(bundles[i][j]) - 1\n",
    "    \n",
    "    em = fairness_measures.envyMatrix(p)\n",
    "    #print(em)\n",
    "    #print(\"There are \", fairness_measures.nbEnviousAgents(em), \" envious agents\")\n",
    "    #print(\"The maximum envy among two agents is \", fairness_measures.maxEnvy(em))\n",
    "    is_EF = fairness_measures.isEnvyFree(em)\n",
    "    \n",
    "    return size_contested_pile, borda_score[0], borda_score[1], is_EF"
   ]
  },
  {
   "cell_type": "code",
   "execution_count": 120,
   "metadata": {},
   "outputs": [],
   "source": [
    "# Retourne les axes pour plot l'évolution du ratio EF en fonction du nb d'objets\n",
    "def plot_likelihood(nb_objects, nb_iterations):\n",
    "    x = []\n",
    "    y = []\n",
    "    for i in range(1,nb_objects):\n",
    "        cpt = 0\n",
    "        for j in range(nb_iterations):\n",
    "            p = Problem(2,i,'borda',centralized=False)\n",
    "            size_contested_pile, borda_score_a, borda_score_b, is_EF = BT_protocol(p)\n",
    "            if is_EF:\n",
    "                cpt += 1\n",
    "        x.append(i)\n",
    "        y.append(cpt/nb_iterations)\n",
    "    return x,y"
   ]
  },
  {
   "cell_type": "code",
   "execution_count": 106,
   "metadata": {},
   "outputs": [
    {
     "name": "stdout",
     "output_type": "stream",
     "text": [
      "agent 0{'r0': 5, 'r1': 2, 'r2': 3, 'r3': 4, 'r4': 1}\n",
      "agent 1{'r0': 5, 'r1': 2, 'r2': 3, 'r3': 1, 'r4': 4}\n",
      "\n",
      "=-=-=-=-=-=-=-=-=-=-=-=-=-=-=-=-=-=-=-=-=-=-=-=-=-=\n",
      "agent  0                       ['r1', 'r2']\t 5\n",
      "agent  1                 ['r0', 'r3', 'r4']\t10\n",
      "\n",
      "Preferences A : ['r0', 'r3', 'r2', 'r1', 'r4']\n",
      "Preferences B : ['r0', 'r4', 'r2', 'r1', 'r3']\n",
      "Bundle A : ['r3']\n",
      "Bundle B : ['r4']\n",
      "Contested pile : ['r0', 'r2', 'r1']\n",
      "taille de contested pile =  3\n",
      "utilité agent A =  3\n",
      "utilité agent B =  3\n",
      "EF =  True\n"
     ]
    }
   ],
   "source": [
    "p_bt = Problem(2,5,'borda',centralized=False)\n",
    "print(p_bt)\n",
    "print(p_bt.printAllocation())\n",
    "\n",
    "temp = BT_protocol(p_bt)\n",
    "print(\"taille de contested pile = \", temp[0])\n",
    "print(\"utilité agent A = \", temp[1])\n",
    "print(\"utilité agent B = \", temp[2])\n",
    "print(\"EF = \", temp[3])"
   ]
  },
  {
   "cell_type": "code",
   "execution_count": 122,
   "metadata": {},
   "outputs": [
    {
     "data": {
      "image/png": "[encoded data removed]",
      "text/plain": [
       "<Figure size 432x288 with 1 Axes>"
      ]
     },
     "metadata": {
      "needs_background": "light"
     },
     "output_type": "display_data"
    }
   ],
   "source": [
    "import matplotlib.pyplot as plt\n",
    "\n",
    "nb_objects = 50\n",
    "nb_iterations = 100\n",
    "x,y = plot_likelihood(nb_objects,nb_iterations)\n",
    "\n",
    "plt.title(\"Evolution du ratio EF en fonction du nb d'objets\")\n",
    "plt.xlabel(\"Nombre d'objets\")\n",
    "plt.ylabel(\"% Envy Free\")\n",
    "plt.plot(x, y, c=\"purple\")\n",
    "plt.grid()"
   ]
  },
  {
   "cell_type": "markdown",
   "metadata": {
    "collapsed": true
   },
   "source": [
    "### References"
   ]
  },
  {
   "cell_type": "markdown",
   "metadata": {},
   "source": [
    "* The discussion and example about Adjusted Winner Manipulation is taken from a video by Eric Pacuit: \n",
    "https://www.youtube.com/watch?v=RtcnSXL69NQ\n",
    "\n",
    "* See (Bouveret and Lang, IJCAI-11) for more details about picking sequences. \n",
    "\n",
    "* See https://www.ams.org/notices/201402/rnoti-p130.pdf for the description of the BT protocol. "
   ]
  },
  {
   "cell_type": "markdown",
   "metadata": {
    "collapsed": true
   },
   "source": [
    "Notebook last updated 2022-01-17"
   ]
  },
  {
   "cell_type": "markdown",
   "metadata": {},
   "source": [
    "### Questions du cours\n",
    "\n",
    "* 2 agents: which sequence gives the better ESW on average ? A: [122121] B: [121221]"
   ]
  },
  {
   "cell_type": "code",
   "execution_count": 27,
   "metadata": {},
   "outputs": [
    {
     "name": "stdout",
     "output_type": "stream",
     "text": [
      "A :\n",
      "=-=-=-=-=-=-=-=-=-=-=-=-=-=-=-=-=-=-=-=-=-=-=-=-=-=\n",
      "= Number of experiments:                 1000\n",
      "= Average egalitarian sw:                 12.36\n",
      "= Ratio of proportional:                0.956\n",
      "= Ratio of envy free:                    0.956\n",
      "= Average number of envious:             0.044\n",
      "= Average max envy:                      0.044\n",
      "=-=-=-=-=-=-=-=-=-=-=-=-=-=-=-=-=-=-=-=-=-=-=-=-=-=\n",
      "\n",
      "B :\n",
      "=-=-=-=-=-=-=-=-=-=-=-=-=-=-=-=-=-=-=-=-=-=-=-=-=-=\n",
      "= Number of experiments:                 1000\n",
      "= Average egalitarian sw:                12.376\n",
      "= Ratio of proportional:                0.955\n",
      "= Ratio of envy free:                    0.955\n",
      "= Average number of envious:             0.045\n",
      "= Average max envy:                      0.045\n",
      "=-=-=-=-=-=-=-=-=-=-=-=-=-=-=-=-=-=-=-=-=-=-=-=-=-=\n",
      "\n"
     ]
    }
   ],
   "source": [
    "# En relançant à plusieurs reprises les simulations avec 2 agents et les séquences A et B, on observe un ESW moyen\n",
    "# équivalent pour les deux séquences.\n",
    "\n",
    "print(\"A :\")\n",
    "simulations.simulationPickingSequences(1000,3,6,[1,2,2,1,2,1],'borda',verbose=False) # séquence A\n",
    "\n",
    "print(\"B :\")\n",
    "simulations.simulationPickingSequences(1000,3,6,[1,2,1,2,2,1],'borda',verbose=False) # séquence B"
   ]
  },
  {
   "cell_type": "markdown",
   "metadata": {},
   "source": [
    "* 3 agents and 5 goods: which sequence has highest ratio of PROP?"
   ]
  },
  {
   "cell_type": "code",
   "execution_count": 85,
   "metadata": {},
   "outputs": [
    {
     "name": "stdout",
     "output_type": "stream",
     "text": [
      "=-=-=-=-=-=-=-=-=-=-=-=-=-=-=-=-=-=-=-=-=-=-=-=-=-=\n",
      "= Number of experiments:                 1000\n",
      "= Average egalitarian sw:                   5.0\n",
      "= Ratio of proportional:                  1.0\n",
      "= Ratio of envy free:                    0.302\n",
      "= Average number of envious:             0.777\n",
      "= Average max envy:                      1.028\n",
      "=-=-=-=-=-=-=-=-=-=-=-=-=-=-=-=-=-=-=-=-=-=-=-=-=-=\n",
      "\n"
     ]
    }
   ],
   "source": [
    "# La séquence suivante a le meilleur ratio PROP. En effet, avec une séquence symétrique, on a ici par exemple l'agent 3 qui\n",
    "# a choisi en dernier \"au premier tour\" puis il peut choisir en premier \"au second tour\" ce qui permet de ne pas favoriser\n",
    "# en particulier un des agents.\n",
    "\n",
    "simulations.simulationPickingSequences(1000,4,5,[1,2,3,3,2],'borda',verbose=False)"
   ]
  },
  {
   "cell_type": "markdown",
   "metadata": {},
   "source": [
    "* 3 agents and 8 goods: which sequence has highest ratio of EF?"
   ]
  },
  {
   "cell_type": "code",
   "execution_count": 110,
   "metadata": {},
   "outputs": [
    {
     "name": "stdout",
     "output_type": "stream",
     "text": [
      "=-=-=-=-=-=-=-=-=-=-=-=-=-=-=-=-=-=-=-=-=-=-=-=-=-=\n",
      "= Number of experiments:                 1000\n",
      "= Average egalitarian sw:                14.011\n",
      "= Ratio of proportional:                0.964\n",
      "= Ratio of envy free:                    0.758\n",
      "= Average number of envious:             0.251\n",
      "= Average max envy:                      0.478\n",
      "=-=-=-=-=-=-=-=-=-=-=-=-=-=-=-=-=-=-=-=-=-=-=-=-=-=\n",
      "\n",
      "=-=-=-=-=-=-=-=-=-=-=-=-=-=-=-=-=-=-=-=-=-=-=-=-=-=\n",
      "= Number of experiments:                 1000\n",
      "= Average egalitarian sw:                14.078\n",
      "= Ratio of proportional:                0.976\n",
      "= Ratio of envy free:                    0.777\n",
      "= Average number of envious:             0.233\n",
      "= Average max envy:                      0.438\n",
      "=-=-=-=-=-=-=-=-=-=-=-=-=-=-=-=-=-=-=-=-=-=-=-=-=-=\n",
      "\n"
     ]
    }
   ],
   "source": [
    "# meilleur ratio EF trouvé :\n",
    "\n",
    "simulations.simulationPickingSequences(1000,4,8,[1,2,3,3,2,1,1,2],'borda',verbose=False)\n",
    "simulations.simulationPickingSequences(1000,4,8,[1,2,3,3,2,1,2,1],'borda',verbose=False)"
   ]
  }
 ],
 "metadata": {
  "anaconda-cloud": {},
  "kernelspec": {
   "display_name": "Python 3",
   "language": "python",
   "name": "python3"
  },
  "language_info": {
   "codemirror_mode": {
    "name": "ipython",
    "version": 3
   },
   "file_extension": ".py",
   "mimetype": "text/x-python",
   "name": "python",
   "nbconvert_exporter": "python",
   "pygments_lexer": "ipython3",
   "version": "3.7.2"
  }
 },
 "nbformat": 4,
 "nbformat_minor": 2
}
