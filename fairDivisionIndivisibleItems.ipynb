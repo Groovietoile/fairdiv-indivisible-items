{
 "cells": [
  {
   "cell_type": "markdown",
   "metadata": {
    "id": "PXwKEUwbhf6X"
   },
   "source": [
    "# Fair Division of Indivisible Goods"
   ]
  },
  {
   "cell_type": "markdown",
   "metadata": {
    "id": "ZX_9pZIxhf6Z"
   },
   "source": [
    "This is a Jupyter Notebook coming along with the chapter \n",
    "* Chapter 12 (Handbook of Computational Social Choice)\n",
    "\n",
    "This notebook was used as part of the course of :\n",
    "* The COST Summer School Lecture on Fair Division of Indivisible Items (San Sebastian, July 2016)\n",
    "* COCOMA: Master ANDROIDE course at Sorbonne Université, 2016-2022\n",
    "\n",
    "This version: 10-01-2022"
   ]
  },
  {
   "cell_type": "markdown",
   "metadata": {
    "id": "rjMEZ6qehf6a"
   },
   "source": [
    "## 1. Defining MARA problems"
   ]
  },
  {
   "cell_type": "markdown",
   "metadata": {
    "id": "EJcOW9bVhf6a"
   },
   "source": [
    "By importing the module `problem`, we can define fair division problems, by specifying a number of agents, a number of resources, and a type of \"culture\" to draw the preferences from. \n",
    "\n",
    "You can either:\n",
    "* define a **centralized** MARA problem (all the resources are initially held by agent 0, who plays in this case the role of the auctioneer -- and counts as an agent)\n",
    "* define a **decentralized** MARA problem (resources are initially randomly allocated)\n",
    "\n",
    "You can also select the method to generate utilities: \n",
    "* **uniform**: utilities for each resource is drawn uniformly at random from 1 to 100\n",
    "* **normalized**: utilities are normalized in [0,1]\n",
    "* **Borda** utilities (worst resource valued 1, and so on, best one m)\n",
    "* **empty**: leaves utilites undefined. You can later use p.setUtilities() to set utilities as you wish for a problem p. "
   ]
  },
  {
   "cell_type": "code",
   "execution_count": 1,
   "metadata": {
    "colab": {
     "base_uri": "https://localhost:8080/"
    },
    "executionInfo": {
     "elapsed": 5218,
     "status": "ok",
     "timestamp": 1642349821757,
     "user": {
      "displayName": "Anthylnem",
      "photoUrl": "https://lh3.googleusercontent.com/a-/AOh14GjUlmunkz_aIlhyb2Me4911zBCFp9Rz46NYYuHDPQ=s64",
      "userId": "09227185932209040800"
     },
     "user_tz": -60
    },
    "id": "P76Fbhe0hkAe",
    "outputId": "c564bd66-f744-4d99-9b09-06b0123eab38"
   },
   "outputs": [
    {
     "name": "stdout",
     "output_type": "stream",
     "text": [
      "Requirement already satisfied: pulp in d:\\users\\maria\\appdata\\local\\programs\\python\\python37-32\\lib\\site-packages (2.6.0)\n"
     ]
    },
    {
     "name": "stderr",
     "output_type": "stream",
     "text": [
      "WARNING: Ignoring invalid distribution -ip (d:\\users\\maria\\appdata\\local\\programs\\python\\python37-32\\lib\\site-packages)\n",
      "WARNING: Ignoring invalid distribution -ip (d:\\users\\maria\\appdata\\local\\programs\\python\\python37-32\\lib\\site-packages)\n",
      "WARNING: Ignoring invalid distribution -ip (d:\\users\\maria\\appdata\\local\\programs\\python\\python37-32\\lib\\site-packages)\n",
      "WARNING: Ignoring invalid distribution -ip (d:\\users\\maria\\appdata\\local\\programs\\python\\python37-32\\lib\\site-packages)\n",
      "WARNING: Ignoring invalid distribution -ip (d:\\users\\maria\\appdata\\local\\programs\\python\\python37-32\\lib\\site-packages)\n",
      "WARNING: Ignoring invalid distribution -ip (d:\\users\\maria\\appdata\\local\\programs\\python\\python37-32\\lib\\site-packages)\n",
      "WARNING: You are using pip version 21.3.1; however, version 22.0.3 is available.\n",
      "You should consider upgrading via the 'D:\\Users\\maria\\AppData\\Local\\Programs\\Python\\Python37-32\\python.exe -m pip install --upgrade pip' command.\n"
     ]
    }
   ],
   "source": [
    "!pip install pulp"
   ]
  },
  {
   "cell_type": "code",
   "execution_count": 2,
   "metadata": {
    "colab": {
     "base_uri": "https://localhost:8080/"
    },
    "executionInfo": {
     "elapsed": 17690,
     "status": "ok",
     "timestamp": 1642349504685,
     "user": {
      "displayName": "Anthylnem",
      "photoUrl": "https://lh3.googleusercontent.com/a-/AOh14GjUlmunkz_aIlhyb2Me4911zBCFp9Rz46NYYuHDPQ=s64",
      "userId": "09227185932209040800"
     },
     "user_tz": -60
    },
    "id": "ObpubV9mj5ew",
    "outputId": "5c8351ee-0975-4966-cfae-64af675616f2"
   },
   "outputs": [
    {
     "ename": "ModuleNotFoundError",
     "evalue": "No module named 'google'",
     "output_type": "error",
     "traceback": [
      "\u001b[1;31m---------------------------------------------------------------------------\u001b[0m",
      "\u001b[1;31mModuleNotFoundError\u001b[0m                       Traceback (most recent call last)",
      "\u001b[1;32m<ipython-input-2-d5df0069828e>\u001b[0m in \u001b[0;36m<module>\u001b[1;34m\u001b[0m\n\u001b[1;32m----> 1\u001b[1;33m \u001b[1;32mfrom\u001b[0m \u001b[0mgoogle\u001b[0m\u001b[1;33m.\u001b[0m\u001b[0mcolab\u001b[0m \u001b[1;32mimport\u001b[0m \u001b[0mdrive\u001b[0m\u001b[1;33m\u001b[0m\u001b[1;33m\u001b[0m\u001b[0m\n\u001b[0m\u001b[0;32m      2\u001b[0m \u001b[0mdrive\u001b[0m\u001b[1;33m.\u001b[0m\u001b[0mmount\u001b[0m\u001b[1;33m(\u001b[0m\u001b[1;34m'/content/drive'\u001b[0m\u001b[1;33m)\u001b[0m\u001b[1;33m\u001b[0m\u001b[1;33m\u001b[0m\u001b[0m\n",
      "\u001b[1;31mModuleNotFoundError\u001b[0m: No module named 'google'"
     ]
    }
   ],
   "source": [
    "from google.colab import drive\n",
    "drive.mount('/content/drive')"
   ]
  },
  {
   "cell_type": "code",
   "execution_count": 4,
   "metadata": {
    "executionInfo": {
     "elapsed": 239,
     "status": "ok",
     "timestamp": 1642349823790,
     "user": {
      "displayName": "Anthylnem",
      "photoUrl": "https://lh3.googleusercontent.com/a-/AOh14GjUlmunkz_aIlhyb2Me4911zBCFp9Rz46NYYuHDPQ=s64",
      "userId": "09227185932209040800"
     },
     "user_tz": -60
    },
    "id": "-UebZN_gjyoh"
   },
   "outputs": [],
   "source": [
    "import sys\n",
    "sys.path.insert(0,'/content/drive/MyDrive/ColabNotebooks/fairdiv-indivisible-items-master/fairdiv-indivisible-items-master')"
   ]
  },
  {
   "cell_type": "code",
   "execution_count": 5,
   "metadata": {
    "executionInfo": {
     "elapsed": 939,
     "status": "ok",
     "timestamp": 1642349826021,
     "user": {
      "displayName": "Anthylnem",
      "photoUrl": "https://lh3.googleusercontent.com/a-/AOh14GjUlmunkz_aIlhyb2Me4911zBCFp9Rz46NYYuHDPQ=s64",
      "userId": "09227185932209040800"
     },
     "user_tz": -60
    },
    "id": "9C6M_dyWhf6b"
   },
   "outputs": [],
   "source": [
    "from problem import Problem\n"
   ]
  },
  {
   "cell_type": "code",
   "execution_count": 6,
   "metadata": {
    "colab": {
     "base_uri": "https://localhost:8080/"
    },
    "executionInfo": {
     "elapsed": 228,
     "status": "ok",
     "timestamp": 1641982211606,
     "user": {
      "displayName": "Anthylnem",
      "photoUrl": "https://lh3.googleusercontent.com/a-/AOh14GjUlmunkz_aIlhyb2Me4911zBCFp9Rz46NYYuHDPQ=s64",
      "userId": "09227185932209040800"
     },
     "user_tz": -60
    },
    "id": "aKpHYOOShf6c",
    "outputId": "99ea647c-69c9-4909-dd88-1a8544f50e5e"
   },
   "outputs": [
    {
     "name": "stdout",
     "output_type": "stream",
     "text": [
      "agent 1{'r0': 4, 'r1': 1, 'r2': 2, 'r3': 3}\n",
      "agent 2{'r0': 2, 'r1': 3, 'r2': 4, 'r3': 1}\n",
      "\n"
     ]
    }
   ],
   "source": [
    "p1 = Problem(3,4,'borda',centralized=True)\n",
    "print(p1)"
   ]
  },
  {
   "cell_type": "markdown",
   "metadata": {
    "id": "LoV1cG4phf6d"
   },
   "source": [
    "Printing the allocation allows to see which agent holds which resource, and the current utility of each agent. "
   ]
  },
  {
   "cell_type": "code",
   "execution_count": 7,
   "metadata": {
    "colab": {
     "base_uri": "https://localhost:8080/"
    },
    "executionInfo": {
     "elapsed": 220,
     "status": "ok",
     "timestamp": 1641895594821,
     "user": {
      "displayName": "Anthylnem",
      "photoUrl": "https://lh3.googleusercontent.com/a-/AOh14GjUlmunkz_aIlhyb2Me4911zBCFp9Rz46NYYuHDPQ=s64",
      "userId": "09227185932209040800"
     },
     "user_tz": -60
    },
    "id": "Yrc70KKkhf6d",
    "outputId": "486af4a5-a1b7-405d-c331-d1ce045656f0"
   },
   "outputs": [
    {
     "name": "stdout",
     "output_type": "stream",
     "text": [
      "auctioneer            ['r0', 'r1', 'r2', 'r3']\t\n",
      "agent  1                                 []\t 0\n",
      "agent  2                                 []\t 0\n",
      "\n"
     ]
    }
   ],
   "source": [
    "print(p1.printAllocation())\n"
   ]
  },
  {
   "cell_type": "markdown",
   "metadata": {
    "id": "OsFohR9bhf6e"
   },
   "source": [
    "It is also possible to set the allocation by hand, by using the setAllocation method. The allocation is specified as a boolean array. "
   ]
  },
  {
   "cell_type": "code",
   "execution_count": 8,
   "metadata": {
    "id": "6jt3CCX0hf6f"
   },
   "outputs": [],
   "source": [
    "p1.setAllocation([[0,0,0,0],[1,1,0,0],[0,0,1,1]])"
   ]
  },
  {
   "cell_type": "code",
   "execution_count": 9,
   "metadata": {
    "colab": {
     "base_uri": "https://localhost:8080/"
    },
    "executionInfo": {
     "elapsed": 220,
     "status": "ok",
     "timestamp": 1641895625807,
     "user": {
      "displayName": "Anthylnem",
      "photoUrl": "https://lh3.googleusercontent.com/a-/AOh14GjUlmunkz_aIlhyb2Me4911zBCFp9Rz46NYYuHDPQ=s64",
      "userId": "09227185932209040800"
     },
     "user_tz": -60
    },
    "id": "5I_0DD9shf6f",
    "outputId": "10046d5a-8e41-499b-a141-e09cb9b0aeca"
   },
   "outputs": [
    {
     "name": "stdout",
     "output_type": "stream",
     "text": [
      "auctioneer                                  []\t\n",
      "agent  1                       ['r0', 'r1']\t 5\n",
      "agent  2                       ['r2', 'r3']\t 5\n",
      "\n"
     ]
    }
   ],
   "source": [
    "print(p1.printAllocation())"
   ]
  },
  {
   "cell_type": "markdown",
   "metadata": {
    "id": "WBK8Qba2hf6g"
   },
   "source": [
    "A problem also handles an (undirected) **visibility graph** among agents. Note that in the centalized case, agent 0 is isolated from the rest (his utility is irrelevant), while all the other agents are by default connected. "
   ]
  },
  {
   "cell_type": "code",
   "execution_count": 10,
   "metadata": {
    "colab": {
     "base_uri": "https://localhost:8080/"
    },
    "executionInfo": {
     "elapsed": 242,
     "status": "ok",
     "timestamp": 1641895725704,
     "user": {
      "displayName": "Anthylnem",
      "photoUrl": "https://lh3.googleusercontent.com/a-/AOh14GjUlmunkz_aIlhyb2Me4911zBCFp9Rz46NYYuHDPQ=s64",
      "userId": "09227185932209040800"
     },
     "user_tz": -60
    },
    "id": "juGGFrGvhf6g",
    "outputId": "a052927f-581b-4b54-e0c3-a157675f0ac5"
   },
   "outputs": [
    {
     "name": "stdout",
     "output_type": "stream",
     "text": [
      "{0: [], 1: [2], 2: [1]}\n"
     ]
    }
   ],
   "source": [
    "print (p1.visibility_graph)"
   ]
  },
  {
   "cell_type": "code",
   "execution_count": 11,
   "metadata": {
    "id": "BjmzMRGNhf6g"
   },
   "outputs": [],
   "source": [
    "p1.setVisibilityGraph({0:[],1:[],2:[]})"
   ]
  },
  {
   "cell_type": "markdown",
   "metadata": {
    "id": "WeLTM_DUhf6h"
   },
   "source": [
    "No one sees anyone now..."
   ]
  },
  {
   "cell_type": "markdown",
   "metadata": {
    "id": "YAJwwkt9hf6h"
   },
   "source": [
    "### Example of the course"
   ]
  },
  {
   "cell_type": "code",
   "execution_count": 12,
   "metadata": {
    "colab": {
     "base_uri": "https://localhost:8080/"
    },
    "executionInfo": {
     "elapsed": 193,
     "status": "ok",
     "timestamp": 1642094259885,
     "user": {
      "displayName": "Anthylnem",
      "photoUrl": "https://lh3.googleusercontent.com/a-/AOh14GjUlmunkz_aIlhyb2Me4911zBCFp9Rz46NYYuHDPQ=s64",
      "userId": "09227185932209040800"
     },
     "user_tz": -60
    },
    "id": "3wHm5YRzhf6h",
    "outputId": "314790dd-a8d5-425d-f9f2-6503dc392701"
   },
   "outputs": [
    {
     "name": "stdout",
     "output_type": "stream",
     "text": [
      "agent 1{'r0': 1, 'r1': 2, 'r2': 5, 'r3': 3, 'r4': 7, 'r5': 2}\n",
      "agent 2{'r0': 2, 'r1': 6, 'r2': 8, 'r3': 1, 'r4': 1, 'r5': 2}\n",
      "agent 3{'r0': 5, 'r1': 4, 'r2': 4, 'r3': 3, 'r4': 2, 'r5': 2}\n",
      "\n",
      "auctioneer ['r0', 'r1', 'r2', 'r3', 'r4', 'r5']\t\n",
      "agent  1                                 []\t 0\n",
      "agent  2                                 []\t 0\n",
      "agent  3                                 []\t 0\n",
      "\n"
     ]
    }
   ],
   "source": [
    "p3 = Problem(4,6,'empty', centralized=True)\n",
    "p3.setUtilities(\n",
    "[{'r0':0,'r1':0,'r2':0,'r3':0,'r4':0,'r5':0},\\\n",
    "{'r0':1,'r1':2,'r2':5,'r3':3,'r4':7,'r5':2},\\\n",
    "{'r0':2,'r1':6,'r2':8,'r3':1,'r4':1,'r5':2},\\\n",
    "{'r0':5,'r1':4,'r2':4,'r3':3,'r4':2,'r5':2}]\n",
    ")\n",
    "print (p3)\n",
    "print (p3.printAllocation())"
   ]
  },
  {
   "cell_type": "markdown",
   "metadata": {
    "id": "tZH233HNhf6h"
   },
   "source": [
    "## 2. Fairness measures"
   ]
  },
  {
   "cell_type": "markdown",
   "metadata": {
    "id": "hIDTs77whf6i"
   },
   "source": [
    "The module `fairness_measures` provides a number of fairness measures for a given allocation: \n",
    "* proportionality\n",
    "* egalitarian social welfare\n",
    "* various notions of envy"
   ]
  },
  {
   "cell_type": "code",
   "execution_count": 13,
   "metadata": {
    "executionInfo": {
     "elapsed": 581,
     "status": "ok",
     "timestamp": 1642349832517,
     "user": {
      "displayName": "Anthylnem",
      "photoUrl": "https://lh3.googleusercontent.com/a-/AOh14GjUlmunkz_aIlhyb2Me4911zBCFp9Rz46NYYuHDPQ=s64",
      "userId": "09227185932209040800"
     },
     "user_tz": -60
    },
    "id": "GRtgCrIphf6i"
   },
   "outputs": [],
   "source": [
    "import fairness_measures"
   ]
  },
  {
   "cell_type": "code",
   "execution_count": 14,
   "metadata": {
    "colab": {
     "base_uri": "https://localhost:8080/"
    },
    "executionInfo": {
     "elapsed": 192,
     "status": "ok",
     "timestamp": 1642094289398,
     "user": {
      "displayName": "Anthylnem",
      "photoUrl": "https://lh3.googleusercontent.com/a-/AOh14GjUlmunkz_aIlhyb2Me4911zBCFp9Rz46NYYuHDPQ=s64",
      "userId": "09227185932209040800"
     },
     "user_tz": -60
    },
    "id": "jOndYf74hf6i",
    "outputId": "0b1cff84-b8f2-4f46-953e-1745d0f9dbe7"
   },
   "outputs": [
    {
     "name": "stdout",
     "output_type": "stream",
     "text": [
      "agent 0{'r0': 0.2, 'r1': 0.259, 'r2': 0.337, 'r3': 0.086, 'r4': 0.031, 'r5': 0.086}\n",
      "agent 1{'r0': 0.004, 'r1': 0.314, 'r2': 0.186, 'r3': 0.096, 'r4': 0.282, 'r5': 0.118}\n",
      "agent 2{'r0': 0.177, 'r1': 0.057, 'r2': 0.294, 'r3': 0.174, 'r4': 0.114, 'r5': 0.184}\n",
      "\n"
     ]
    }
   ],
   "source": [
    "p2 = Problem(3,6,'normalized',centralized=False)\n",
    "print(p2)"
   ]
  },
  {
   "cell_type": "code",
   "execution_count": 15,
   "metadata": {
    "colab": {
     "base_uri": "https://localhost:8080/"
    },
    "executionInfo": {
     "elapsed": 233,
     "status": "ok",
     "timestamp": 1641895867736,
     "user": {
      "displayName": "Anthylnem",
      "photoUrl": "https://lh3.googleusercontent.com/a-/AOh14GjUlmunkz_aIlhyb2Me4911zBCFp9Rz46NYYuHDPQ=s64",
      "userId": "09227185932209040800"
     },
     "user_tz": -60
    },
    "id": "EQIOTp-8hf6j",
    "outputId": "4277d170-9d57-45ad-b943-6d1c74ce045e"
   },
   "outputs": [
    {
     "name": "stdout",
     "output_type": "stream",
     "text": [
      "=-=-=-=-=-=-=-=-=-=-=-=-=-=-=-=-=-=-=-=-=-=-=-=-=-=\n",
      "agent  0                             ['r4']\t0.031\n",
      "agent  1           ['r0', 'r1', 'r2', 'r5']\t0.622\n",
      "agent  2                             ['r3']\t0.174\n",
      "\n"
     ]
    }
   ],
   "source": [
    "print(p2.printAllocation())"
   ]
  },
  {
   "cell_type": "markdown",
   "metadata": {
    "id": "ZVtb03TLhf6j"
   },
   "source": [
    "We can check various fairness properties..."
   ]
  },
  {
   "cell_type": "code",
   "execution_count": 16,
   "metadata": {
    "colab": {
     "base_uri": "https://localhost:8080/"
    },
    "executionInfo": {
     "elapsed": 220,
     "status": "ok",
     "timestamp": 1641895871654,
     "user": {
      "displayName": "Anthylnem",
      "photoUrl": "https://lh3.googleusercontent.com/a-/AOh14GjUlmunkz_aIlhyb2Me4911zBCFp9Rz46NYYuHDPQ=s64",
      "userId": "09227185932209040800"
     },
     "user_tz": -60
    },
    "id": "wZELOXgBhf6j",
    "outputId": "0b535c94-3001-456e-bcf4-ed789e998771"
   },
   "outputs": [
    {
     "name": "stdout",
     "output_type": "stream",
     "text": [
      "False\n"
     ]
    }
   ],
   "source": [
    "print(fairness_measures.isProportional(p2))"
   ]
  },
  {
   "cell_type": "code",
   "execution_count": 17,
   "metadata": {
    "colab": {
     "base_uri": "https://localhost:8080/"
    },
    "executionInfo": {
     "elapsed": 248,
     "status": "ok",
     "timestamp": 1641895939209,
     "user": {
      "displayName": "Anthylnem",
      "photoUrl": "https://lh3.googleusercontent.com/a-/AOh14GjUlmunkz_aIlhyb2Me4911zBCFp9Rz46NYYuHDPQ=s64",
      "userId": "09227185932209040800"
     },
     "user_tz": -60
    },
    "id": "wx-iFgCRhf6j",
    "outputId": "66ed64c7-249e-4d63-a4af-dc75d2223999",
    "scrolled": true
   },
   "outputs": [
    {
     "name": "stdout",
     "output_type": "stream",
     "text": [
      "0.031\n"
     ]
    }
   ],
   "source": [
    "print(fairness_measures.egalitarianSW(p2))"
   ]
  },
  {
   "cell_type": "markdown",
   "metadata": {
    "id": "0MeZl0Khhf6k"
   },
   "source": [
    "... and build the envy matrix from which several measures can be obtained. "
   ]
  },
  {
   "cell_type": "code",
   "execution_count": 18,
   "metadata": {
    "colab": {
     "base_uri": "https://localhost:8080/"
    },
    "executionInfo": {
     "elapsed": 231,
     "status": "ok",
     "timestamp": 1641895953232,
     "user": {
      "displayName": "Anthylnem",
      "photoUrl": "https://lh3.googleusercontent.com/a-/AOh14GjUlmunkz_aIlhyb2Me4911zBCFp9Rz46NYYuHDPQ=s64",
      "userId": "09227185932209040800"
     },
     "user_tz": -60
    },
    "id": "Al-IiaNyhf6k",
    "outputId": "3fc55279-a311-4413-ddfa-1282714946c6"
   },
   "outputs": [
    {
     "name": "stdout",
     "output_type": "stream",
     "text": [
      "[[0.    0.851 0.055]\n",
      " [0.    0.    0.   ]\n",
      " [0.    0.538 0.   ]]\n",
      "There are  2  envious agents\n",
      "The maximum envy among two agents is  0.851\n"
     ]
    }
   ],
   "source": [
    "em2 = fairness_measures.envyMatrix(p2)\n",
    "print(em2)\n",
    "print(\"There are \", fairness_measures.nbEnviousAgents(em2), \" envious agents\")\n",
    "print(\"The maximum envy among two agents is \", fairness_measures.maxEnvy(em2))"
   ]
  },
  {
   "cell_type": "code",
   "execution_count": 19,
   "metadata": {
    "colab": {
     "base_uri": "https://localhost:8080/"
    },
    "executionInfo": {
     "elapsed": 206,
     "status": "ok",
     "timestamp": 1641895980473,
     "user": {
      "displayName": "Anthylnem",
      "photoUrl": "https://lh3.googleusercontent.com/a-/AOh14GjUlmunkz_aIlhyb2Me4911zBCFp9Rz46NYYuHDPQ=s64",
      "userId": "09227185932209040800"
     },
     "user_tz": -60
    },
    "id": "SObMVayLhf6k",
    "outputId": "d6f8abde-5203-4698-8651-808d239ba694"
   },
   "outputs": [
    {
     "name": "stdout",
     "output_type": "stream",
     "text": [
      "False\n"
     ]
    }
   ],
   "source": [
    "print(fairness_measures.isEnvyFree(em2))"
   ]
  },
  {
   "cell_type": "code",
   "execution_count": 20,
   "metadata": {
    "colab": {
     "base_uri": "https://localhost:8080/"
    },
    "executionInfo": {
     "elapsed": 198,
     "status": "ok",
     "timestamp": 1641895982530,
     "user": {
      "displayName": "Anthylnem",
      "photoUrl": "https://lh3.googleusercontent.com/a-/AOh14GjUlmunkz_aIlhyb2Me4911zBCFp9Rz46NYYuHDPQ=s64",
      "userId": "09227185932209040800"
     },
     "user_tz": -60
    },
    "id": "67fUBKNnhf6l",
    "outputId": "0a7e9182-f7b1-4897-f18f-e42c146ee766"
   },
   "outputs": [
    {
     "name": "stdout",
     "output_type": "stream",
     "text": [
      "True\n"
     ]
    }
   ],
   "source": [
    "em1 = fairness_measures.envyMatrix(p1)\n",
    "print(fairness_measures.isEnvyFree(em1))"
   ]
  },
  {
   "cell_type": "code",
   "execution_count": 21,
   "metadata": {
    "colab": {
     "base_uri": "https://localhost:8080/"
    },
    "executionInfo": {
     "elapsed": 227,
     "status": "ok",
     "timestamp": 1641895986960,
     "user": {
      "displayName": "Anthylnem",
      "photoUrl": "https://lh3.googleusercontent.com/a-/AOh14GjUlmunkz_aIlhyb2Me4911zBCFp9Rz46NYYuHDPQ=s64",
      "userId": "09227185932209040800"
     },
     "user_tz": -60
    },
    "id": "afnwKPhghf6l",
    "outputId": "dfc1b376-85fd-4f0a-e508-89d3f0c467b9"
   },
   "outputs": [
    {
     "name": "stdout",
     "output_type": "stream",
     "text": [
      "True\n"
     ]
    }
   ],
   "source": [
    "p1.setVisibilityGraph({0:[],1:[2],2:[1]})\n",
    "em1 = fairness_measures.envyMatrix(p1)\n",
    "print(fairness_measures.isEnvyFree(em1))"
   ]
  },
  {
   "cell_type": "markdown",
   "metadata": {
    "id": "dmxb0k2Phf6l"
   },
   "source": [
    "### Question 1"
   ]
  },
  {
   "cell_type": "markdown",
   "metadata": {
    "id": "RjLmfGnyhf6l"
   },
   "source": [
    "Create an instance involving 3 agents and 4 resources, with the following  utilities for the ressources : \n",
    "* agent 0: 6, 6, 1, 7\n",
    "* agent 1: 1, 3, 9, 7\n",
    "* agent 2: 8, 0, 4, 8\n",
    "\n",
    "Find allocations which satisfies : \n",
    "* proportionality\n",
    "* envy-freeness\n",
    "* maximizes egalitarian social welfare\n",
    "* maximizes utilitarian social welfare\n",
    "* maximizes the Nash product"
   ]
  },
  {
   "cell_type": "code",
   "execution_count": 22,
   "metadata": {
    "colab": {
     "base_uri": "https://localhost:8080/"
    },
    "executionInfo": {
     "elapsed": 250,
     "status": "ok",
     "timestamp": 1642349836307,
     "user": {
      "displayName": "Anthylnem",
      "photoUrl": "https://lh3.googleusercontent.com/a-/AOh14GjUlmunkz_aIlhyb2Me4911zBCFp9Rz46NYYuHDPQ=s64",
      "userId": "09227185932209040800"
     },
     "user_tz": -60
    },
    "id": "iS95o-ydob5O",
    "outputId": "97deb53b-0332-42b3-af90-24f3cbd13c4b"
   },
   "outputs": [
    {
     "name": "stdout",
     "output_type": "stream",
     "text": [
      "agent 1{'r0': 6, 'r1': 6, 'r2': 1, 'r3': 7}\n",
      "agent 2{'r0': 1, 'r1': 3, 'r2': 9, 'r3': 7}\n",
      "agent 3{'r0': 8, 'r1': 0, 'r2': 4, 'r3': 8}\n",
      "\n",
      "auctioneer            ['r0', 'r1', 'r2', 'r3']\t\n",
      "agent  1                                 []\t 0\n",
      "agent  2                                 []\t 0\n",
      "agent  3                                 []\t 0\n",
      "\n"
     ]
    }
   ],
   "source": [
    "p1 = Problem(4,4,'empty', centralized=True)\n",
    "p1.setUtilities(\n",
    "[{'r0':0,'r1':0,'r2':0,'r3':0},\\\n",
    "{'r0':6,'r1':6,'r2':1,'r3':7},\\\n",
    "{'r0':1,'r1':3,'r2':9,'r3':7},\\\n",
    "{'r0':8,'r1':0,'r2':4,'r3':8}]\n",
    ")\n",
    "print (p1)\n",
    "print (p1.printAllocation())"
   ]
  },
  {
   "cell_type": "markdown",
   "metadata": {
    "id": "A8-RYR87u38N"
   },
   "source": [
    "Proportionality"
   ]
  },
  {
   "cell_type": "code",
   "execution_count": 23,
   "metadata": {
    "colab": {
     "base_uri": "https://localhost:8080/"
    },
    "executionInfo": {
     "elapsed": 208,
     "status": "ok",
     "timestamp": 1641898174822,
     "user": {
      "displayName": "Anthylnem",
      "photoUrl": "https://lh3.googleusercontent.com/a-/AOh14GjUlmunkz_aIlhyb2Me4911zBCFp9Rz46NYYuHDPQ=s64",
      "userId": "09227185932209040800"
     },
     "user_tz": -60
    },
    "id": "PnX5dXoYvLZl",
    "outputId": "6cfc74c0-d350-47e4-ecc5-627fe4931f52"
   },
   "outputs": [
    {
     "name": "stdout",
     "output_type": "stream",
     "text": [
      "auctioneer                                  []\t\n",
      "agent  1                       ['r1', 'r2']\t 7\n",
      "agent  2                             ['r3']\t 7\n",
      "agent  3                             ['r0']\t 8\n",
      "\n",
      "True\n"
     ]
    }
   ],
   "source": [
    "p1.setAllocation([[0,0,0,0],[0,1,1,0],[0,0,0,1],[1,0,0,0]])\n",
    "print(p1.printAllocation())\n",
    "print(fairness_measures.isProportional(p1))"
   ]
  },
  {
   "cell_type": "markdown",
   "metadata": {
    "id": "70Ogmpmkvy7a"
   },
   "source": [
    "Envy-freeness"
   ]
  },
  {
   "cell_type": "code",
   "execution_count": 24,
   "metadata": {
    "colab": {
     "base_uri": "https://localhost:8080/"
    },
    "executionInfo": {
     "elapsed": 299,
     "status": "ok",
     "timestamp": 1641997236836,
     "user": {
      "displayName": "Anthylnem",
      "photoUrl": "https://lh3.googleusercontent.com/a-/AOh14GjUlmunkz_aIlhyb2Me4911zBCFp9Rz46NYYuHDPQ=s64",
      "userId": "09227185932209040800"
     },
     "user_tz": -60
    },
    "id": "9sq4B1_2vuL6",
    "outputId": "2e8a8d2f-5773-46d2-d894-e88c229113d3"
   },
   "outputs": [
    {
     "name": "stdout",
     "output_type": "stream",
     "text": [
      "auctioneer                                  []\t\n",
      "agent  1                       ['r0', 'r1']\t12\n",
      "agent  2                             ['r2']\t 9\n",
      "agent  3                             ['r3']\t 8\n",
      "\n",
      "[[0. 0. 0. 0.]\n",
      " [0. 0. 0. 0.]\n",
      " [0. 0. 0. 0.]\n",
      " [0. 0. 0. 0.]]\n",
      "True\n"
     ]
    }
   ],
   "source": [
    "p1.setAllocation([[0,0,0,0],[1,1,0,0],[0,0,1,0],[0,0,0,1]])\n",
    "#p1.setAllocation([[0,0,0,0],[0,0,0,1],[0,1,1,0],[1,0,0,0]])\n",
    "print(p1.printAllocation())\n",
    "em1 = fairness_measures.envyMatrix(p1)\n",
    "print(em1)\n",
    "print(fairness_measures.isEnvyFree(em1))"
   ]
  },
  {
   "cell_type": "markdown",
   "metadata": {
    "id": "OrLPEU5K0zWQ"
   },
   "source": [
    "ESW"
   ]
  },
  {
   "cell_type": "code",
   "execution_count": 25,
   "metadata": {
    "colab": {
     "base_uri": "https://localhost:8080/"
    },
    "executionInfo": {
     "elapsed": 248,
     "status": "ok",
     "timestamp": 1641900379649,
     "user": {
      "displayName": "Anthylnem",
      "photoUrl": "https://lh3.googleusercontent.com/a-/AOh14GjUlmunkz_aIlhyb2Me4911zBCFp9Rz46NYYuHDPQ=s64",
      "userId": "09227185932209040800"
     },
     "user_tz": -60
    },
    "id": "aJd2hTwQ3oUW",
    "outputId": "ab45e9a3-17d9-43c0-969c-d1526a3e6e40"
   },
   "outputs": [
    {
     "name": "stdout",
     "output_type": "stream",
     "text": [
      "auctioneer                                  []\t\n",
      "agent  1                       ['r1', 'r3']\t13\n",
      "agent  2                             ['r2']\t 9\n",
      "agent  3                             ['r0']\t 8\n",
      "\n"
     ]
    }
   ],
   "source": [
    "p1.setAllocation([[0,0,0,0],[0,1,0,1],[0,0,1,0],[1,0,0,0]])\n",
    "print(p1.printAllocation())"
   ]
  },
  {
   "cell_type": "code",
   "execution_count": 26,
   "metadata": {
    "colab": {
     "base_uri": "https://localhost:8080/"
    },
    "executionInfo": {
     "elapsed": 223,
     "status": "ok",
     "timestamp": 1641899788926,
     "user": {
      "displayName": "Anthylnem",
      "photoUrl": "https://lh3.googleusercontent.com/a-/AOh14GjUlmunkz_aIlhyb2Me4911zBCFp9Rz46NYYuHDPQ=s64",
      "userId": "09227185932209040800"
     },
     "user_tz": -60
    },
    "id": "aO_Hwu99x0er",
    "outputId": "77b41e27-68ae-43d3-fbd7-7c0b3e4727eb"
   },
   "outputs": [
    {
     "name": "stderr",
     "output_type": "stream",
     "text": [
      "d:\\users\\maria\\appdata\\local\\programs\\python\\python37-32\\lib\\site-packages\\pulp\\pulp.py:1352: UserWarning: Spaces are not permitted in the name. Converted to '_'\n",
      "  warnings.warn(\"Spaces are not permitted in the name. Converted to '_'\")\n"
     ]
    },
    {
     "name": "stdout",
     "output_type": "stream",
     "text": [
      "agent  1  gets resource r1\n",
      "agent  1  gets resource r3\n",
      "agent  2  gets resource r2\n",
      "agent  3  gets resource r0\n",
      "8.0\n"
     ]
    }
   ],
   "source": [
    "import mipsolving\n",
    "\n",
    "print(mipsolving.assignmentLP(p1,verbose=True))"
   ]
  },
  {
   "cell_type": "markdown",
   "metadata": {
    "id": "ZZXdfmIU2rur"
   },
   "source": [
    "USW"
   ]
  },
  {
   "cell_type": "code",
   "execution_count": 27,
   "metadata": {
    "colab": {
     "base_uri": "https://localhost:8080/"
    },
    "executionInfo": {
     "elapsed": 240,
     "status": "ok",
     "timestamp": 1641901004391,
     "user": {
      "displayName": "Anthylnem",
      "photoUrl": "https://lh3.googleusercontent.com/a-/AOh14GjUlmunkz_aIlhyb2Me4911zBCFp9Rz46NYYuHDPQ=s64",
      "userId": "09227185932209040800"
     },
     "user_tz": -60
    },
    "id": "qDyuNH6L2qrg",
    "outputId": "eefdfadc-a029-47d0-aadd-a3bbab37dc1b"
   },
   "outputs": [
    {
     "name": "stdout",
     "output_type": "stream",
     "text": [
      "auctioneer                                  []\t\n",
      "agent  1                             ['r1']\t 6\n",
      "agent  2                             ['r2']\t 9\n",
      "agent  3                       ['r0', 'r3']\t16\n",
      "\n"
     ]
    }
   ],
   "source": [
    "p1.setAllocation([[0,0,0,0],[0,1,0,0],[0,0,1,0],[1,0,0,1]])\n",
    "print(p1.printAllocation())"
   ]
  },
  {
   "cell_type": "markdown",
   "metadata": {
    "id": "DmlKAprm5HSq"
   },
   "source": [
    "Nash"
   ]
  },
  {
   "cell_type": "code",
   "execution_count": 28,
   "metadata": {
    "colab": {
     "base_uri": "https://localhost:8080/"
    },
    "executionInfo": {
     "elapsed": 199,
     "status": "ok",
     "timestamp": 1641900478820,
     "user": {
      "displayName": "Anthylnem",
      "photoUrl": "https://lh3.googleusercontent.com/a-/AOh14GjUlmunkz_aIlhyb2Me4911zBCFp9Rz46NYYuHDPQ=s64",
      "userId": "09227185932209040800"
     },
     "user_tz": -60
    },
    "id": "tKcBweac4aDS",
    "outputId": "3df4b348-4907-44fd-e813-fabb280930b6"
   },
   "outputs": [
    {
     "name": "stdout",
     "output_type": "stream",
     "text": [
      "auctioneer                                  []\t\n",
      "agent  1                       ['r1', 'r3']\t13\n",
      "agent  2                             ['r2']\t 9\n",
      "agent  3                             ['r0']\t 8\n",
      "\n"
     ]
    }
   ],
   "source": [
    "p1.setAllocation([[0,0,0,0],[0,1,0,1],[0,0,1,0],[1,0,0,0]])\n",
    "print(p1.printAllocation())"
   ]
  },
  {
   "cell_type": "markdown",
   "metadata": {
    "id": "2Bd75NY1hf6l"
   },
   "source": [
    "### Question 2\n",
    "\n",
    "There are a few missing notions though. Code functions which returns:\n",
    "* whether the allocation is envy-free up to **one** or **any** good\n",
    "* whether the allocation is proportional up to **one** or **any** good\n",
    "Test whether you can find a counter-example to the fact that EFX does not imply PROPX. \n",
    "\n",
    "Another missing notion is Competitive Equilibrium with equal income. Code functions which: \n",
    "* for a problem, given an allocation and a price vector, returns whether this allocation is CEEI\n",
    "* for a problem, given a price vector, checks whether there exists an allocation in CEEI\n",
    "* for a a problem, checks whether there exists a pair of price vector and allocation in CEEI"
   ]
  },
  {
   "cell_type": "code",
   "execution_count": 29,
   "metadata": {
    "id": "8JsopddObyHV"
   },
   "outputs": [],
   "source": [
    "import copy"
   ]
  },
  {
   "cell_type": "code",
   "execution_count": 30,
   "metadata": {
    "id": "Ba4jcb98rHnX"
   },
   "outputs": [],
   "source": [
    "def EF1(p):\n",
    "  '''\n",
    "  Check if the allocation is envy-free up to one good\n",
    "  @p : an allocation problem\n",
    "  Returns True or False\n",
    "  '''\n",
    "\n",
    "  em = fairness_measures.envyMatrix(p)\n",
    "  if fairness_measures.isEnvyFree(em):\n",
    "    # EF, not EFX\n",
    "    return True\n",
    "\n",
    "  else:\n",
    "      for envious_agent in range(len(em)):\n",
    "          for envied_agent in range(len(em[envious_agent])):\n",
    "\n",
    "              if em[envious_agent][envied_agent] > 0:\n",
    "                  resources = p.agent[envied_agent].hold.copy()\n",
    "\n",
    "                  for r in resources:\n",
    "                      p.agent[envied_agent].giveItem(r)                   \n",
    "                      m = fairness_measures.envyMatrix(p)\n",
    "                      p.agent[envied_agent].getItem(r)\n",
    "\n",
    "                      # Check if envious_agent is still envious\n",
    "                      if not m[envious_agent][envied_agent] > 0:\n",
    "                        break\n",
    "                      elif r == resources[-1]:\n",
    "                          return False\n",
    "  return True"
   ]
  },
  {
   "cell_type": "code",
   "execution_count": 31,
   "metadata": {
    "id": "5Nw-a87zTm5l"
   },
   "outputs": [],
   "source": [
    "def EFX(p):\n",
    "  '''\n",
    "  Check if the allocation is envy-free up to any good\n",
    "  @p : an allocation problem\n",
    "  Returns True or False\n",
    "  '''\n",
    "\n",
    "  em = fairness_measures.envyMatrix(p)\n",
    "  if fairness_measures.isEnvyFree(em):\n",
    "    # EF, not EFX\n",
    "    return True\n",
    "\n",
    "  else:\n",
    "      for envious_agent in range(len(em)):\n",
    "          for envied_agent in range(len(em[envious_agent])):\n",
    "\n",
    "              if em[envious_agent][envied_agent] > 0:\n",
    "                  ressources = p.agent[envied_agent].hold.copy()\n",
    "\n",
    "                  for r in ressources:\n",
    "                      p.agent[envied_agent].giveItem(r)                   \n",
    "                      m = fairness_measures.envyMatrix(p)\n",
    "\n",
    "                      # Check if envious_agent is still envious\n",
    "                      if(not fairness_measures.isEnvyFree(m)):\n",
    "                          return False\n",
    "                      p.agent[envied_agent].getItem(r)\n",
    "  return True"
   ]
  },
  {
   "cell_type": "code",
   "execution_count": 32,
   "metadata": {
    "colab": {
     "base_uri": "https://localhost:8080/"
    },
    "executionInfo": {
     "elapsed": 210,
     "status": "ok",
     "timestamp": 1642274916203,
     "user": {
      "displayName": "Anthylnem",
      "photoUrl": "https://lh3.googleusercontent.com/a-/AOh14GjUlmunkz_aIlhyb2Me4911zBCFp9Rz46NYYuHDPQ=s64",
      "userId": "09227185932209040800"
     },
     "user_tz": -60
    },
    "id": "J1M2fPYJa-Zh",
    "outputId": "e5604158-9d5c-4865-8d69-23b32495c353",
    "scrolled": false
   },
   "outputs": [
    {
     "name": "stdout",
     "output_type": "stream",
     "text": [
      "True\n"
     ]
    }
   ],
   "source": [
    "p1.setAllocation([[0,0,0,0],[0,1,0,1],[0,0,1,0],[1,0,0,0]])\n",
    "print(EFX(p1))"
   ]
  },
  {
   "cell_type": "code",
   "execution_count": 33,
   "metadata": {
    "colab": {
     "base_uri": "https://localhost:8080/"
    },
    "executionInfo": {
     "elapsed": 1,
     "status": "ok",
     "timestamp": 1642274917333,
     "user": {
      "displayName": "Anthylnem",
      "photoUrl": "https://lh3.googleusercontent.com/a-/AOh14GjUlmunkz_aIlhyb2Me4911zBCFp9Rz46NYYuHDPQ=s64",
      "userId": "09227185932209040800"
     },
     "user_tz": -60
    },
    "id": "x5bu_jnYqGIF",
    "outputId": "e3516d9f-d657-4431-dfb9-7b855539f68a"
   },
   "outputs": [
    {
     "name": "stdout",
     "output_type": "stream",
     "text": [
      "False\n"
     ]
    }
   ],
   "source": [
    "p1.setAllocation([[0,0,0,0],[0,0,0,0],[1,1,1,0],[0,0,0,1]])\n",
    "print(EFX(p1))"
   ]
  },
  {
   "cell_type": "code",
   "execution_count": 34,
   "metadata": {
    "executionInfo": {
     "elapsed": 240,
     "status": "ok",
     "timestamp": 1642351523445,
     "user": {
      "displayName": "Anthylnem",
      "photoUrl": "https://lh3.googleusercontent.com/a-/AOh14GjUlmunkz_aIlhyb2Me4911zBCFp9Rz46NYYuHDPQ=s64",
      "userId": "09227185932209040800"
     },
     "user_tz": -60
    },
    "id": "8E9oqa5WNSTP"
   },
   "outputs": [],
   "source": [
    "def PROP1(p):\n",
    "  '''\n",
    "  Check if the allocation is proportional up to one good\n",
    "  @p : an allocation problem\n",
    "  Returns True/False\n",
    "  '''\n",
    "  pfs = fairness_measures.proportionality(p)\n",
    "    \n",
    "  if fairness_measures.isProportional(p):\n",
    "      return True\n",
    "\n",
    "  start = 0\n",
    "  if p.centralized: # agent[0] is the auctioneer\n",
    "      start = 1\n",
    "\n",
    "  for a in range(start, p.n):\n",
    "      if p.agent[a].current_u < pfs[a]:\n",
    "          resources = list(set(p.resources) - set(p.agent[a].hold)) # resources that agent a doesn't have\n",
    "\n",
    "          for r in resources:\n",
    "              p.agent[a].getItem(r)\n",
    "              if p.agent[a].current_u >= pfs[a]: # PROP1 for this agent\n",
    "                  p.agent[a].giveItem(r) \n",
    "                  break\n",
    "              else:\n",
    "                  if r == resources[-1]: # not PROP1\n",
    "                      return False\n",
    "                                          \n",
    "  return True"
   ]
  },
  {
   "cell_type": "code",
   "execution_count": 35,
   "metadata": {
    "colab": {
     "base_uri": "https://localhost:8080/"
    },
    "executionInfo": {
     "elapsed": 3,
     "status": "ok",
     "timestamp": 1642351524517,
     "user": {
      "displayName": "Anthylnem",
      "photoUrl": "https://lh3.googleusercontent.com/a-/AOh14GjUlmunkz_aIlhyb2Me4911zBCFp9Rz46NYYuHDPQ=s64",
      "userId": "09227185932209040800"
     },
     "user_tz": -60
    },
    "id": "aeK1l5WHNWgs",
    "outputId": "103475fe-7b72-4f42-9077-3e1d8628e4c8"
   },
   "outputs": [
    {
     "name": "stdout",
     "output_type": "stream",
     "text": [
      "False\n",
      "auctioneer                                  []\t\n",
      "agent  1                                 []\t 0\n",
      "agent  2                 ['r1', 'r2', 'r3']\t19\n",
      "agent  3                             ['r0']\t 8\n",
      "\n",
      "True\n"
     ]
    }
   ],
   "source": [
    "p1.setAllocation([[0,0,0,0],[0,0,0,0],[0,1,1,1],[1,0,0,0]])\n",
    "print(fairness_measures.isProportional(p1))\n",
    "print(p1.printAllocation())\n",
    "print(PROP1(p1))"
   ]
  },
  {
   "cell_type": "code",
   "execution_count": 36,
   "metadata": {
    "executionInfo": {
     "elapsed": 223,
     "status": "ok",
     "timestamp": 1642351899290,
     "user": {
      "displayName": "Anthylnem",
      "photoUrl": "https://lh3.googleusercontent.com/a-/AOh14GjUlmunkz_aIlhyb2Me4911zBCFp9Rz46NYYuHDPQ=s64",
      "userId": "09227185932209040800"
     },
     "user_tz": -60
    },
    "id": "QsXd6wXbuXVq"
   },
   "outputs": [],
   "source": [
    "def PROPX(p):\n",
    "  '''\n",
    "  Check if the allocation is proportional up to any good\n",
    "  @p : an allocation problem\n",
    "  Returns True/False\n",
    "  '''\n",
    "  pfs = fairness_measures.proportionality(p)\n",
    "  \n",
    "  if fairness_measures.isProportional(p):\n",
    "      return True\n",
    "\n",
    "  start = 0\n",
    "  if p.centralized: # agent[0] is the auctioneer\n",
    "      start = 1\n",
    "\n",
    "  for a in range(start,p.n):\n",
    "      if p.agent[a].current_u < pfs[a]:\n",
    "          resources = list(set(p.resources) - set(p.agent[a].hold)) # resources that agent a doesn't have\n",
    "\n",
    "          for r in resources:\n",
    "              p.agent[a].getItem(r)\n",
    "              if p.agent[a].current_u < pfs[a]: # not pfs for one item, not PROPX\n",
    "                  p.agent[a].giveItem(r)\n",
    "                  return False\n",
    "              p.agent[a].giveItem(r)\n",
    "\n",
    "  return True"
   ]
  },
  {
   "cell_type": "code",
   "execution_count": 37,
   "metadata": {
    "colab": {
     "base_uri": "https://localhost:8080/"
    },
    "executionInfo": {
     "elapsed": 2,
     "status": "ok",
     "timestamp": 1642351900668,
     "user": {
      "displayName": "Anthylnem",
      "photoUrl": "https://lh3.googleusercontent.com/a-/AOh14GjUlmunkz_aIlhyb2Me4911zBCFp9Rz46NYYuHDPQ=s64",
      "userId": "09227185932209040800"
     },
     "user_tz": -60
    },
    "id": "OhmPvAsJwcfY",
    "outputId": "db7f886a-dd7a-453f-e3eb-563bcdcefb38"
   },
   "outputs": [
    {
     "name": "stdout",
     "output_type": "stream",
     "text": [
      "auctioneer                                  []\t\n",
      "agent  1                                 []\t 0\n",
      "agent  2                 ['r1', 'r2', 'r3']\t19\n",
      "agent  3                             ['r0']\t 8\n",
      "\n",
      "False\n"
     ]
    }
   ],
   "source": [
    "p1.setAllocation([[0,0,0,0],[0,0,0,0],[0,1,1,1],[1,0,0,0]])\n",
    "print(p1.printAllocation())\n",
    "print(PROPX(p1))"
   ]
  },
  {
   "cell_type": "code",
   "execution_count": 38,
   "metadata": {},
   "outputs": [],
   "source": [
    "#exemple EFX mais pas PROPX :\n",
    "# p1 = Problem(3,4,'empty', centralized=True)\n",
    "# p1.setUtilities(\n",
    "# [{'r0':0,'r1':0,'r2':0,'r3':0},\\\n",
    "# {'r0':2,'r1':1,'r2':1,'r3':1},\\\n",
    "# {'r0':4,'r1':1,'r2':1,'r3':1}]\n",
    "# )\n",
    "\n",
    "# p1.setAllocation([[0,0,0,0],[1,0,0,0],[0,1,1,1]])\n",
    "# print(p1.printAllocation())\n",
    "# print(EFX(p1))\n",
    "# print(PROPX(p1))\n",
    "\n",
    "\n",
    "# pQ2_EFX_notPROPX = Problem(6,5,'empty', centralized=True)\n",
    "# pQ2_EFX_notPROPX.setUtilities(\n",
    "# [{'r0':0,'r1':0,'r2':0,'r3':0,'r4':0},\\\n",
    "# {'r0':1,'r1':1,'r2':1,'r3':1,'r4':1},\\\n",
    "# {'r0':1,'r1':1,'r2':1,'r3':1,'r4':1},\\\n",
    "# {'r0':1,'r1':1,'r2':1,'r3':1,'r4':1},\\\n",
    "# {'r0':1,'r1':1,'r2':1,'r3':1,'r4':1},\\\n",
    "# {'r0':3,'r1':6,'r2':4,'r3':1,'r4':2}]\n",
    "# )\n",
    "# pQ2_EFX_notPROPX.setAllocation([[0,0,0,0,0],[1,0,0,0,0],[0,1,0,0,0],[0,0,1,0,0],[0,0,0,1,0],[0,0,0,0,1]])\n",
    "\n",
    "# print(EFX(pQ2_EFX_notPROPX))\n",
    "# print(PROPX(pQ2_EFX_notPROPX))"
   ]
  },
  {
   "cell_type": "code",
   "execution_count": 39,
   "metadata": {
    "colab": {
     "base_uri": "https://localhost:8080/"
    },
    "executionInfo": {
     "elapsed": 237,
     "status": "ok",
     "timestamp": 1642354423779,
     "user": {
      "displayName": "Anthylnem",
      "photoUrl": "https://lh3.googleusercontent.com/a-/AOh14GjUlmunkz_aIlhyb2Me4911zBCFp9Rz46NYYuHDPQ=s64",
      "userId": "09227185932209040800"
     },
     "user_tz": -60
    },
    "id": "100fMSkv6xgJ",
    "outputId": "b862f834-7a9b-4590-a58b-3a7dbc2c76dc"
   },
   "outputs": [
    {
     "name": "stdout",
     "output_type": "stream",
     "text": [
      "12\n"
     ]
    }
   ],
   "source": [
    "# A naive recursive implementation of 0-1 Knapsack Problem\n",
    "  \n",
    "# Returns the maximum value that can be put in a knapsack of\n",
    "# capacity W\n",
    "def knapSack(W, wt, val, n):\n",
    "  \n",
    "    # Base Case\n",
    "    if n == 0 or W == 0 :\n",
    "        return 0\n",
    "  \n",
    "    # If weight of the nth item is more than Knapsack of capacity\n",
    "    # W, then this item cannot be included in the optimal solution\n",
    "    if (wt[n-1] > W):\n",
    "        return knapSack(W, wt, val, n-1)\n",
    "  \n",
    "    # return the maximum of two cases:\n",
    "    # (1) nth item included\n",
    "    # (2) not included\n",
    "    else:\n",
    "        return max(val[n-1] + knapSack(W-wt[n-1], wt, val, n-1),\n",
    "                   knapSack(W, wt, val, n-1))\n",
    "    \n",
    "# end of function knapSack\n",
    "  \n",
    "# To test above function\n",
    "val = [6, 6, 6, 0, 0]\n",
    "wt = [0.4, 0.5, 0.5, 0.3, 0.3]\n",
    "W = 1\n",
    "n = len(val)\n",
    "print(knapSack(W, wt, val, n))\n",
    "  \n",
    "# This code is contributed by Nikhil Kumar Singh"
   ]
  },
  {
   "cell_type": "code",
   "execution_count": 40,
   "metadata": {},
   "outputs": [],
   "source": [
    "def isCEEI(p,wallet,allocation,price_vector):\n",
    "    p.setAllocation(allocation)\n",
    "    print(p.printAllocation())\n",
    "    deb=0\n",
    "    if p.centralized:\n",
    "        deb=1\n",
    "    for i in range(deb,p.n):\n",
    "        utilities = list(p.agent[i].u.values())\n",
    "        optimal = knapSack(wallet,price_vector,utilities,len(utilities))\n",
    "        if p.agent[i].current_u!=optimal:\n",
    "            print(\"Not CEEI because of agent\",i)\n",
    "            return False\n",
    "    return True"
   ]
  },
  {
   "cell_type": "code",
   "execution_count": 41,
   "metadata": {},
   "outputs": [
    {
     "name": "stdout",
     "output_type": "stream",
     "text": [
      "agent 1{'r0': 6, 'r1': 6, 'r2': 1, 'r3': 7}\n",
      "agent 2{'r0': 1, 'r1': 3, 'r2': 9, 'r3': 7}\n",
      "agent 3{'r0': 8, 'r1': 0, 'r2': 4, 'r3': 8}\n",
      "\n",
      "auctioneer            ['r0', 'r1', 'r2', 'r3']\t\n",
      "agent  1                                 []\t 0\n",
      "agent  2                                 []\t 0\n",
      "agent  3                                 []\t 0\n",
      "\n",
      "auctioneer                                  []\t\n",
      "agent  1                             ['r3']\t 7\n",
      "agent  2                             ['r2']\t 9\n",
      "agent  3                       ['r0', 'r1']\t 8\n",
      "\n",
      "Not CEEI because of agent 1\n",
      "False\n",
      "\n",
      "agent 1{'r0': 6, 'r1': 6, 'r2': 6, 'r3': 0, 'r4': 0}\n",
      "agent 2{'r0': 5, 'r1': 5, 'r2': 3, 'r3': 3, 'r4': 2}\n",
      "\n",
      "auctioneer      ['r0', 'r1', 'r2', 'r3', 'r4']\t\n",
      "agent  1                                 []\t 0\n",
      "agent  2                                 []\t 0\n",
      "\n",
      "auctioneer                                  []\t\n",
      "agent  1                       ['r1', 'r2']\t12\n",
      "agent  2                 ['r0', 'r3', 'r4']\t10\n",
      "\n",
      "True\n"
     ]
    }
   ],
   "source": [
    "# Instance :\n",
    "pQ1 = Problem(4,4,'empty', centralized=True)\n",
    "pQ1.setUtilities(\n",
    "[{'r0':0,'r1':0,'r2':0,'r3':0},\\\n",
    "{'r0':6,'r1':6,'r2':1,'r3':7},\\\n",
    "{'r0':1,'r1':3,'r2':9,'r3':7},\\\n",
    "{'r0':8,'r1':0,'r2':4,'r3':8}]\n",
    ")\n",
    "print(pQ1)\n",
    "print(pQ1.printAllocation())\n",
    "\n",
    "p = pQ1\n",
    "allocation = [[0,0,0,0],[0,0,0,1],[0,0,1,0],[1,1,0,0]]\n",
    "wallet = 1\n",
    "price_vector = [0.4, 0.5, 0.5, 0.3, 0.3]\n",
    "\n",
    "print(isCEEI(p,wallet,allocation,price_vector))\n",
    "\n",
    "print(\"\")\n",
    "\n",
    "# Instance :\n",
    "p_cours = Problem(3,5,'empty', centralized=True)\n",
    "p_cours.setUtilities(\n",
    "[{'r0':0,'r1':0,'r2':0,'r3':0,'r4':0},\\\n",
    "{'r0':6,'r1':6,'r2':6,'r3':0,'r4':0},\\\n",
    "{'r0':5,'r1':5,'r2':3,'r3':3,'r4':2}]\n",
    ")\n",
    "print(p_cours)\n",
    "print(p_cours.printAllocation())\n",
    "\n",
    "p = p_cours\n",
    "allocation = [[0,0,0,0,0],[0,1,1,0,0],[1,0,0,1,1]]\n",
    "wallet = 1\n",
    "price_vector = [0.4, 0.5, 0.5, 0.3, 0.3]\n",
    "\n",
    "print(isCEEI(p,wallet,allocation,price_vector))"
   ]
  },
  {
   "cell_type": "code",
   "execution_count": 42,
   "metadata": {
    "colab": {
     "base_uri": "https://localhost:8080/",
     "height": 339
    },
    "executionInfo": {
     "elapsed": 226,
     "status": "error",
     "timestamp": 1642354343987,
     "user": {
      "displayName": "Anthylnem",
      "photoUrl": "https://lh3.googleusercontent.com/a-/AOh14GjUlmunkz_aIlhyb2Me4911zBCFp9Rz46NYYuHDPQ=s64",
      "userId": "09227185932209040800"
     },
     "user_tz": -60
    },
    "id": "7n7n-UaF6zEJ",
    "outputId": "bcbd980d-6520-4bd3-f08f-4bcbaefc8b5e"
   },
   "outputs": [],
   "source": [
    "# val = [6,6,6,0,0]\n",
    "# print(val)\n",
    "# wt = [0.4,0.5,0.5,0.3,0.3]\n",
    "# W = 1\n",
    "# n = len(val) \n",
    "# print(knapSack(W, wt, val, n)) "
   ]
  },
  {
   "cell_type": "markdown",
   "metadata": {
    "id": "jFvjSN2Lhf6m"
   },
   "source": [
    "## 3. Solving via MIP"
   ]
  },
  {
   "cell_type": "markdown",
   "metadata": {
    "id": "3ffmGT6mhf6m"
   },
   "source": [
    "By importing `mipsolving` we get access to functions allowing to optimally solve the problems via MIP formulations (see course). \n",
    "The program uses the `Pulp` libray for linear programming. "
   ]
  },
  {
   "cell_type": "code",
   "execution_count": 43,
   "metadata": {
    "id": "V0FfVBTzhf6m"
   },
   "outputs": [],
   "source": [
    "import mipsolving"
   ]
  },
  {
   "cell_type": "code",
   "execution_count": 44,
   "metadata": {
    "colab": {
     "base_uri": "https://localhost:8080/"
    },
    "executionInfo": {
     "elapsed": 170,
     "status": "ok",
     "timestamp": 1642094264066,
     "user": {
      "displayName": "Anthylnem",
      "photoUrl": "https://lh3.googleusercontent.com/a-/AOh14GjUlmunkz_aIlhyb2Me4911zBCFp9Rz46NYYuHDPQ=s64",
      "userId": "09227185932209040800"
     },
     "user_tz": -60
    },
    "id": "zf8VTrbXhf6m",
    "outputId": "731c4eb3-3bd5-42ec-c728-90932ec0edf8"
   },
   "outputs": [
    {
     "name": "stdout",
     "output_type": "stream",
     "text": [
      "Status: Optimal\n",
      "envy_bound\n",
      "0.0\n",
      "agent  1  gets resource r4\n",
      "agent  1  gets resource r5\n",
      "agent  2  gets resource r1\n",
      "agent  2  gets resource r2\n",
      "agent  3  gets resource r0\n",
      "agent  3  gets resource r3\n",
      "the final max envy is  0.0\n"
     ]
    }
   ],
   "source": [
    "e3 = mipsolving.envyminimizingLP(p3,verbose=True)\n",
    "print(\"the final max envy is \",e3)"
   ]
  },
  {
   "cell_type": "markdown",
   "metadata": {
    "id": "ZwdHMIS9hf6m"
   },
   "source": [
    "(Note that this has not modified the initial problem)"
   ]
  },
  {
   "cell_type": "code",
   "execution_count": 45,
   "metadata": {
    "colab": {
     "base_uri": "https://localhost:8080/"
    },
    "executionInfo": {
     "elapsed": 165,
     "status": "ok",
     "timestamp": 1642094294350,
     "user": {
      "displayName": "Anthylnem",
      "photoUrl": "https://lh3.googleusercontent.com/a-/AOh14GjUlmunkz_aIlhyb2Me4911zBCFp9Rz46NYYuHDPQ=s64",
      "userId": "09227185932209040800"
     },
     "user_tz": -60
    },
    "id": "x_biVtNyhf6n",
    "outputId": "92974c59-dc82-4027-8113-c4cb9d5d20ae"
   },
   "outputs": [
    {
     "name": "stdout",
     "output_type": "stream",
     "text": [
      "agent  1  gets resource r1\n",
      "agent  1  gets resource r3\n",
      "agent  1  gets resource r4\n",
      "agent  2  gets resource r0\n",
      "agent  2  gets resource r2\n",
      "agent  2  gets resource r5\n",
      "0.655\n"
     ]
    }
   ],
   "source": [
    "print(mipsolving.assignmentLP(p2,verbose=True))"
   ]
  },
  {
   "cell_type": "markdown",
   "metadata": {
    "id": "WbQaRVr9hf6n"
   },
   "source": [
    "## 4. How likely is it to get an envy-free allocation? "
   ]
  },
  {
   "cell_type": "markdown",
   "metadata": {
    "id": "PSkOxeS8hf6n"
   },
   "source": [
    "For facilitating the run of several problems with varying or similar parameters, the module simulations provides a few functions. "
   ]
  },
  {
   "cell_type": "code",
   "execution_count": 46,
   "metadata": {
    "id": "4C_WAA3Lhf6n"
   },
   "outputs": [],
   "source": [
    "import simulations\n"
   ]
  },
  {
   "cell_type": "markdown",
   "metadata": {
    "id": "-wiXFxa2hf6n"
   },
   "source": [
    "Let us illustrate this on a specific question, adressed by Dickerson et al. in their paper: \n",
    "* The computational Rise and Fall of Fairness, AAAI-2014"
   ]
  },
  {
   "cell_type": "code",
   "execution_count": 47,
   "metadata": {
    "colab": {
     "base_uri": "https://localhost:8080/"
    },
    "executionInfo": {
     "elapsed": 28679,
     "status": "ok",
     "timestamp": 1642094336968,
     "user": {
      "displayName": "Anthylnem",
      "photoUrl": "https://lh3.googleusercontent.com/a-/AOh14GjUlmunkz_aIlhyb2Me4911zBCFp9Rz46NYYuHDPQ=s64",
      "userId": "09227185932209040800"
     },
     "user_tz": -60
    },
    "id": "goBs84vIhf6n",
    "outputId": "41fd21ef-6483-44b4-857d-de435b713ecb"
   },
   "outputs": [
    {
     "name": "stdout",
     "output_type": "stream",
     "text": [
      "Experiments completed!\n"
     ]
    }
   ],
   "source": [
    "tested_resources = list(range(5,10)) # from 5 to 10 resources\n",
    "tested_agents = [5] # only 5 agents\n",
    "max_envy,ratio_ef = simulations.simulationOpt(50,tested_agents,tested_resources,'normalized')\n",
    "#print (max_envy,ratio_ef)\n",
    "print(\"Experiments completed!\")"
   ]
  },
  {
   "cell_type": "code",
   "execution_count": 48,
   "metadata": {
    "colab": {
     "base_uri": "https://localhost:8080/",
     "height": 314
    },
    "executionInfo": {
     "elapsed": 910,
     "status": "ok",
     "timestamp": 1642094342443,
     "user": {
      "displayName": "Anthylnem",
      "photoUrl": "https://lh3.googleusercontent.com/a-/AOh14GjUlmunkz_aIlhyb2Me4911zBCFp9Rz46NYYuHDPQ=s64",
      "userId": "09227185932209040800"
     },
     "user_tz": -60
    },
    "id": "2idVtbfWhf6n",
    "outputId": "883e03c5-f934-4e97-d671-bd6b2f18cd59"
   },
   "outputs": [
    {
     "data": {
      "image/png": "[encoded data removed]",
      "text/plain": [
       "<Figure size 900x288 with 1 Axes>"
      ]
     },
     "metadata": {
      "needs_background": "light"
     },
     "output_type": "display_data"
    }
   ],
   "source": [
    "%matplotlib inline\n",
    "import numpy as np\n",
    "from matplotlib import pyplot as plt\n",
    "from IPython.core.pylabtools import figsize\n",
    "import networkx as nx\n",
    "import pylab\n",
    "figsize(12.5, 4)\n",
    "p = np.linspace(tested_resources[0], tested_resources[0]+len(tested_resources)-1,len(tested_resources))\n",
    "#print(p)\n",
    "plt.plot(p, max_envy[0], color='red')\n",
    "plt.plot(p, ratio_ef[0], color = 'blue')\n",
    "legende = \"Average max envy and ratio of envy-free, for increasing number of items\"\n",
    "plt.suptitle(legende, y=1.02, fontsize=15)\n",
    "plt.tight_layout()"
   ]
  },
  {
   "cell_type": "markdown",
   "metadata": {
    "id": "48oUhznWhf6o"
   },
   "source": [
    "### Question 3\n",
    "Play a little bit with these simulations and try to determine:\n",
    "* for 2 agents, how the max envy evolves, from which number of items\n",
    "you can be reasonably sure to get an envy-free allocation\n",
    "* same question for 5 agents"
   ]
  },
  {
   "cell_type": "code",
   "execution_count": 49,
   "metadata": {
    "colab": {
     "base_uri": "https://localhost:8080/"
    },
    "executionInfo": {
     "elapsed": 19018,
     "status": "ok",
     "timestamp": 1642279663586,
     "user": {
      "displayName": "Anthylnem",
      "photoUrl": "https://lh3.googleusercontent.com/a-/AOh14GjUlmunkz_aIlhyb2Me4911zBCFp9Rz46NYYuHDPQ=s64",
      "userId": "09227185932209040800"
     },
     "user_tz": -60
    },
    "id": "JM38W9eucsNJ",
    "outputId": "c1ffeaaf-4cd8-476c-dfaf-16ec4a11941e"
   },
   "outputs": [
    {
     "name": "stderr",
     "output_type": "stream",
     "text": [
      "d:\\users\\maria\\appdata\\local\\programs\\python\\python37-32\\lib\\site-packages\\pulp\\pulp.py:1352: UserWarning: Spaces are not permitted in the name. Converted to '_'\n",
      "  warnings.warn(\"Spaces are not permitted in the name. Converted to '_'\")\n"
     ]
    },
    {
     "name": "stdout",
     "output_type": "stream",
     "text": [
      "Experiments completed!\n"
     ]
    }
   ],
   "source": [
    "tested_resources = list(range(1,20))\n",
    "tested_agents = [3]\n",
    "max_envy,ratio_ef = simulations.simulationOpt(50,tested_agents,tested_resources,'normalized')\n",
    "#print (max_envy,ratio_ef)\n",
    "print(\"Experiments completed!\")"
   ]
  },
  {
   "cell_type": "code",
   "execution_count": 50,
   "metadata": {
    "colab": {
     "base_uri": "https://localhost:8080/",
     "height": 314
    },
    "executionInfo": {
     "elapsed": 649,
     "status": "ok",
     "timestamp": 1642279667701,
     "user": {
      "displayName": "Anthylnem",
      "photoUrl": "https://lh3.googleusercontent.com/a-/AOh14GjUlmunkz_aIlhyb2Me4911zBCFp9Rz46NYYuHDPQ=s64",
      "userId": "09227185932209040800"
     },
     "user_tz": -60
    },
    "id": "qNmxoV83dTKA",
    "outputId": "90dcae51-6425-4fc2-8b05-fc5754853593"
   },
   "outputs": [
    {
     "data": {
      "image/png": "[encoded data removed]",
      "text/plain": [
       "<Figure size 900x288 with 1 Axes>"
      ]
     },
     "metadata": {
      "needs_background": "light"
     },
     "output_type": "display_data"
    }
   ],
   "source": [
    "%matplotlib inline\n",
    "import numpy as np\n",
    "from matplotlib import pyplot as plt\n",
    "from IPython.core.pylabtools import figsize\n",
    "import networkx as nx\n",
    "import pylab\n",
    "figsize(12.5, 4)\n",
    "p = np.linspace(tested_resources[0], tested_resources[0]+len(tested_resources)-1,len(tested_resources))\n",
    "#print(p)\n",
    "plt.plot(p, max_envy[0], color='red', label=\"max envy\")\n",
    "plt.plot(p, ratio_ef[0], color = 'blue', label=\"EF ratio\")\n",
    "legende = \"Average max envy and ratio of envy-free, for increasing number of items\"\n",
    "plt.suptitle(legende, y=1.02, fontsize=15)\n",
    "plt.tight_layout()"
   ]
  },
  {
   "cell_type": "markdown",
   "metadata": {
    "id": "zyCNJsROfJqf"
   },
   "source": [
    "Pour 2 agents, l'allocation est envy-free à partir de 5 objets. Pour un problème à 1 objet, l'envie max est toujours supérieure à 0 puisque les agents ne peuvent pas se partager l'unique objet."
   ]
  },
  {
   "cell_type": "code",
   "execution_count": 51,
   "metadata": {
    "colab": {
     "base_uri": "https://localhost:8080/"
    },
    "executionInfo": {
     "elapsed": 298415,
     "status": "ok",
     "timestamp": 1642280007617,
     "user": {
      "displayName": "Anthylnem",
      "photoUrl": "https://lh3.googleusercontent.com/a-/AOh14GjUlmunkz_aIlhyb2Me4911zBCFp9Rz46NYYuHDPQ=s64",
      "userId": "09227185932209040800"
     },
     "user_tz": -60
    },
    "id": "meB6aezDflHK",
    "outputId": "c4b52053-d7b3-471c-fa29-3b45ee74df44"
   },
   "outputs": [
    {
     "name": "stdout",
     "output_type": "stream",
     "text": [
      "Experiments completed!\n"
     ]
    }
   ],
   "source": [
    "tested_resources = list(range(1,15))\n",
    "tested_agents = [6]\n",
    "max_envy,ratio_ef = simulations.simulationOpt(50,tested_agents,tested_resources,'normalized')\n",
    "#print (max_envy,ratio_ef)\n",
    "print(\"Experiments completed!\")"
   ]
  },
  {
   "cell_type": "code",
   "execution_count": 52,
   "metadata": {
    "colab": {
     "base_uri": "https://localhost:8080/",
     "height": 314
    },
    "executionInfo": {
     "elapsed": 659,
     "status": "ok",
     "timestamp": 1642280036735,
     "user": {
      "displayName": "Anthylnem",
      "photoUrl": "https://lh3.googleusercontent.com/a-/AOh14GjUlmunkz_aIlhyb2Me4911zBCFp9Rz46NYYuHDPQ=s64",
      "userId": "09227185932209040800"
     },
     "user_tz": -60
    },
    "id": "aWX7WfTlfooD",
    "outputId": "91004b66-cf92-421c-9147-0c5a6faf2c1b"
   },
   "outputs": [
    {
     "data": {
      "image/png": "[encoded data removed]",
      "text/plain": [
       "<Figure size 900x288 with 1 Axes>"
      ]
     },
     "metadata": {
      "needs_background": "light"
     },
     "output_type": "display_data"
    }
   ],
   "source": [
    "%matplotlib inline\n",
    "import numpy as np\n",
    "from matplotlib import pyplot as plt\n",
    "from IPython.core.pylabtools import figsize\n",
    "import networkx as nx\n",
    "import pylab\n",
    "figsize(12.5, 4)\n",
    "p = np.linspace(tested_resources[0], tested_resources[0]+len(tested_resources)-1,len(tested_resources))\n",
    "#print(p)\n",
    "plt.plot(p, max_envy[0], color='red', label=\"max envy\")\n",
    "plt.plot(p, ratio_ef[0], color = 'blue', label=\"EF ratio\")\n",
    "legende = \"Average max envy and ratio of envy-free, for increasing number of items\"\n",
    "plt.suptitle(legende, y=1.02, fontsize=15)\n",
    "plt.tight_layout()"
   ]
  },
  {
   "cell_type": "markdown",
   "metadata": {
    "id": "7fYNQJXChhnN"
   },
   "source": [
    "Pour 5 agents, l'allocation est envy-free à partir de 10 objets."
   ]
  },
  {
   "cell_type": "markdown",
   "metadata": {
    "id": "BlWhejzyhf6o"
   },
   "source": [
    "## 5. Envy-Freeness on Graph (Facultatif)"
   ]
  },
  {
   "cell_type": "markdown",
   "metadata": {
    "id": "j4UkeTA_hf6o"
   },
   "source": [
    "Agents can only envy their neighbours in the visibility (Idea: you can't envy someone you don't see). "
   ]
  },
  {
   "cell_type": "markdown",
   "metadata": {
    "id": "7v1LuO5thf6o"
   },
   "source": [
    "Augment the code of mipsolving so as to account for graph envy-freeness, ie. an envy is only considered among agents which are neighbours in the graph. Then, test how likely it is to get a graph-envy free allocation:\n",
    "* on a line of 10 agents, with Borda utilities,\n",
    "* on a star of 10 agents, with Borda utilities."
   ]
  },
  {
   "cell_type": "code",
   "execution_count": null,
   "metadata": {
    "id": "YYF4inFChf6o"
   },
   "outputs": [],
   "source": []
  },
  {
   "cell_type": "code",
   "execution_count": null,
   "metadata": {},
   "outputs": [],
   "source": []
  }
 ],
 "metadata": {
  "anaconda-cloud": {},
  "colab": {
   "collapsed_sections": [
    "YAJwwkt9hf6h",
    "jFvjSN2Lhf6m",
    "BlWhejzyhf6o"
   ],
   "name": "HATTAB_RICHAUME_fairDivisionIndivisibleItems.ipynb",
   "provenance": []
  },
  "kernelspec": {
   "display_name": "Python 3",
   "language": "python",
   "name": "python3"
  },
  "language_info": {
   "codemirror_mode": {
    "name": "ipython",
    "version": 3
   },
   "file_extension": ".py",
   "mimetype": "text/x-python",
   "name": "python",
   "nbconvert_exporter": "python",
   "pygments_lexer": "ipython3",
   "version": "3.7.2"
  }
 },
 "nbformat": 4,
 "nbformat_minor": 1
}
